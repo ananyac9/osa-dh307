{
 "cells": [
  {
   "cell_type": "code",
   "execution_count": 13,
   "metadata": {},
   "outputs": [
    {
     "name": "stdout",
     "output_type": "stream",
     "text": [
      "['EEG F3-A2', 'EEG F4-A1', 'EEG A1-A2', 'EEG C3-A2', 'EEG C4-A1', 'EEG O1-A2', 'EEG O2-A1', 'EOG LOC-A2', 'EOG ROC-A2', 'EMG Chin', 'Leg 1', 'Leg 2', 'ECG I', 'RR', 'ECG II', 'Snore', 'Flow Patient', 'Flow Patient', 'Effort THO', 'Effort ABD', 'SpO2', 'Pleth', 'Body', 'Flow Patient', 'xPAP CPAP', 'xPAP IPAP', 'xPAP EPAP', 'Leak Total', 'PulseRate', 'PressCheck', 'ECG IIHF', 'Technical']\n"
     ]
    }
   ],
   "source": [
    "from pyedflib import highlevel\n",
    "import pyedflib as plib\n",
    "import numpy as np\n",
    "import matplotlib.pyplot as plt\n",
    "\n",
    "def read_file_signal(file_path, index):\n",
    "    f = plib.EdfReader(file_path)\n",
    "    signal = f.readSignal(index)\n",
    "    f.close()\n",
    "    return signal\n",
    "\n",
    "def signal_labels(file_path):\n",
    "    f = plib.EdfReader(file_path)\n",
    "    labels = f.getSignalLabels()\n",
    "    f.close()\n",
    "    return labels\n",
    "\n",
    "def combined_signal(file_list, index):\n",
    "    combined_signals = []\n",
    "    for file in file_list:\n",
    "        temp = read_file_signal(file, index)\n",
    "        combined_signals.append(temp)\n",
    "    return np.concatenate(combined_signals)\n",
    "\n",
    "edf_files_severe = [\n",
    "    \"c:\\\\Users\\\\anany\\\\Downloads\\\\00000066-297469[001].edf\",\n",
    "    \"c:\\\\Users\\\\anany\\\\Downloads\\\\00000066-297469[002].edf\",\n",
    "    \"c:\\\\Users\\\\anany\\\\Downloads\\\\00000066-297469[003].edf\",\n",
    "    \"c:\\\\Users\\\\anany\\\\Downloads\\\\00000066-297469[004].edf\",\n",
    "    \"c:\\\\Users\\\\anany\\\\Downloads\\\\00000066-297469[005].edf\",\n",
    "    \"c:\\\\Users\\\\anany\\\\Downloads\\\\00000066-297469[006].edf\",\n",
    "    \"c:\\\\Users\\\\anany\\\\Downloads\\\\00000066-297469[007].edf\"\n",
    "]\n",
    "\n",
    "edf_files_normal = [\n",
    "    \"C:\\\\Users\\\\anany\\\\Downloads\\\\00000064-297469[001].edf\",\n",
    "    \"C:\\\\Users\\\\anany\\\\Downloads\\\\00000064-297469[002].edf\",\n",
    "    \"C:\\\\Users\\\\anany\\\\Downloads\\\\00000064-297469[003].edf\",\n",
    "    \"C:\\\\Users\\\\anany\\\\Downloads\\\\00000064-297469[004].edf\",\n",
    "    \"C:\\\\Users\\\\anany\\\\Downloads\\\\00000064-297469[005].edf\",\n",
    "    \"C:\\\\Users\\\\anany\\\\Downloads\\\\00000064-297469[006].edf\",\n",
    "    \"C:\\\\Users\\\\anany\\\\Downloads\\\\00000064-297469[007].edf\",\n",
    "    \"C:\\\\Users\\\\anany\\\\Downloads\\\\00000064-297469[008].edf\",\n",
    "    \"C:\\\\Users\\\\anany\\\\Downloads\\\\00000064-297469[009].edf\"\n",
    "]\n",
    "\n",
    "edf_files_moderate = [\n",
    "    \"C:\\\\Users\\\\anany\\\\Downloads\\\\00000074-297469[001].edf\",\n",
    "    \"C:\\\\Users\\\\anany\\\\Downloads\\\\00000074-297469[002].edf\",\n",
    "    \"C:\\\\Users\\\\anany\\\\Downloads\\\\00000074-297469[003].edf\",\n",
    "    \"C:\\\\Users\\\\anany\\\\Downloads\\\\00000074-297469[004].edf\",\n",
    "    \"C:\\\\Users\\\\anany\\\\Downloads\\\\00000074-297469[005].edf\",\n",
    "    \"C:\\\\Users\\\\anany\\\\Downloads\\\\00000074-297469[006].edf\",\n",
    "    \"C:\\\\Users\\\\anany\\\\Downloads\\\\00000074-297469[007].edf\",\n",
    "    \"C:\\\\Users\\\\anany\\\\Downloads\\\\00000074-297469[008].edf\",\n",
    "    \"C:\\\\Users\\\\anany\\\\Downloads\\\\00000074-297469[009].edf\"\n",
    "]\n",
    "\n",
    "edf_files_mild = [\n",
    "    \"C:\\\\Users\\\\anany\\\\Downloads\\\\00000067-297469[001].edf\",\n",
    "    \"C:\\\\Users\\\\anany\\\\Downloads\\\\00000067-297469[002].edf\",\n",
    "    \"C:\\\\Users\\\\anany\\\\Downloads\\\\00000067-297469[003].edf\",\n",
    "    \"C:\\\\Users\\\\anany\\\\Downloads\\\\00000067-297469[004].edf\",\n",
    "    \"C:\\\\Users\\\\anany\\\\Downloads\\\\00000067-297469[005].edf\",\n",
    "    \"C:\\\\Users\\\\anany\\\\Downloads\\\\00000067-297469[006].edf\",\n",
    "    \"C:\\\\Users\\\\anany\\\\Downloads\\\\00000067-297469[007].edf\",\n",
    "    \"C:\\\\Users\\\\anany\\\\Downloads\\\\00000067-297469[008].edf\",\n",
    "    \"C:\\\\Users\\\\anany\\\\Downloads\\\\00000067-297469[009].edf\",\n",
    "    \"C:\\\\Users\\\\anany\\\\Downloads\\\\00000067-297469[010].edf\",\n",
    "    \"C:\\\\Users\\\\anany\\\\Downloads\\\\00000067-297469[011].edf\",\n",
    "]\n",
    "\n",
    "labels = signal_labels(edf_files_normal[0])\n",
    "print(labels)\n",
    "labels[16] = \"Flow patient 1\"\n",
    "labels[17] = \"Flow patient 2\"\n",
    "labels[23] = \"Flow patient 3\"\n",
    "cv_dict = {}"
   ]
  },
  {
   "cell_type": "code",
   "execution_count": 14,
   "metadata": {},
   "outputs": [],
   "source": [
    "def resample_signal(signal, num_samples):\n",
    "    original_indices = np.linspace(0, len(signal) - 1, num=len(signal))\n",
    "    resampled_indices = np.linspace(0, len(signal) - 1, num=num_samples)\n",
    "    resampled_signal = np.interp(resampled_indices, original_indices, signal)\n",
    "    return resampled_signal\n",
    "\n",
    "normal_signals = []\n",
    "for index in range(32):\n",
    "    combined_sig = combined_signal(edf_files_normal, index)\n",
    "    resampled_signal = resample_signal(combined_sig, 25200)\n",
    "    normal_signals.append(resampled_signal)"
   ]
  },
  {
   "cell_type": "code",
   "execution_count": 15,
   "metadata": {},
   "outputs": [
    {
     "name": "stdout",
     "output_type": "stream",
     "text": [
      "(25200,)\n"
     ]
    }
   ],
   "source": [
    "print(normal_signals[0].shape) #25200 coz 3600*7 is minimum length"
   ]
  },
  {
   "cell_type": "code",
   "execution_count": 16,
   "metadata": {},
   "outputs": [],
   "source": [
    "mild_signals = []\n",
    "for index in range(32):\n",
    "    combined_sig = combined_signal(edf_files_mild, index)\n",
    "    resampled_signal = resample_signal(combined_sig, 25200)\n",
    "    mild_signals.append(resampled_signal)"
   ]
  },
  {
   "cell_type": "code",
   "execution_count": 17,
   "metadata": {},
   "outputs": [],
   "source": [
    "moderate_signals = []\n",
    "for index in range(32):\n",
    "    combined_sig = combined_signal(edf_files_moderate, index)\n",
    "    resampled_signal = resample_signal(combined_sig, 25200)\n",
    "    moderate_signals.append(resampled_signal)"
   ]
  },
  {
   "cell_type": "code",
   "execution_count": 18,
   "metadata": {},
   "outputs": [],
   "source": [
    "severe_signals = []\n",
    "for index in range(32):\n",
    "    combined_sig = combined_signal(edf_files_severe, index)\n",
    "    resampled_signal = resample_signal(combined_sig, 25200)\n",
    "    severe_signals.append(resampled_signal)"
   ]
  },
  {
   "cell_type": "code",
   "execution_count": 21,
   "metadata": {},
   "outputs": [],
   "source": [
    "import statistics as stats\n",
    "def find_cv(channel):\n",
    "    mean = channel.mean()\n",
    "    var = stats.variance(channel)\n",
    "    if mean == 0:\n",
    "        return 'nil'\n",
    "    return var/mean"
   ]
  },
  {
   "cell_type": "code",
   "execution_count": 22,
   "metadata": {},
   "outputs": [
    {
     "name": "stdout",
     "output_type": "stream",
     "text": [
      "{'EEG F3-A2': [-244.79876801416535, -418.87264075485297, -236.44395142882797, -288.1451309258569], 'EEG F4-A1': [-234.74189776538486, -240.25563076546945, -84.83494478357095, -99.8935854464732], 'EEG A1-A2': [-305.44320531851963, -3499.387302678661, 9.011544397959169, 16.857953590080147], 'EEG C3-A2': [-389.20417122121336, -311.99496578102685, -182.77599559921723, -195.3729698650322], 'EEG C4-A1': [613.3783548074209, 253.7117427154992, 102.75462710411027, 158.41745615858414], 'EEG O1-A2': [16.657296326292542, 3.038041255299112, 6.93123733525623, 2.268720654841054], 'EEG O2-A1': [15.278300210579472, 2.463302317761971, 4.677318993719205, 1.1255527272766233], 'EOG LOC-A2': [304.5546336044004, 164.71904854072497, 84.68592365359976, 145.6797035160995], 'EOG ROC-A2': [-438.5366498481962, -508.27035199149384, -226.39064019545347, -312.63436543613176], 'EMG Chin': [-150.45244796315913, -608.1204732725399, -552.1356093163419, -2187.313878379502], 'Leg 1': [-76.08935739516015, -209.68257575465066, -93.39791223776517, -148.93316943895456], 'Leg 2': [-75.45254627132665, -232.1208826214328, -118.68674055256866, -134.66304219089767], 'ECG I': [-7465.1450255558375, -1051.2424265778156, -345.0181513497476, -790.4861929957664], 'RR': [7.338533431111953, 4.868688291571694, 4.701618001601349, 4.82077440435057], 'ECG II': [-10496.00619071083, -2835.8684132941626, -1674.2963860915602, -3073.6800417788563], 'Snore': [-98.09885030593817, -25.93958076083545, -34.27382908215292, 557.169003111897], 'Flow patient 1': [-208.80377406973233, -14426.463900071089, 5719.237281252653, -1539.0441299844301], 'Flow patient 2': [-509.05528554644474, -53403.067130054354, -21209.73132483334, 407.5549478732572], 'Effort THO': [-128.15449225002345, -678.8608779501999, -230.68191003070353, 65012.438074609854], 'Effort ABD': [-117.00961690599252, -1079.436145765007, -15738.016090059344, -1020.0921064657529], 'SpO2': [1.0404972991051, 1.7287917879213104, 0.04312137546220986, 2.7270251701560677], 'Pleth': [-173.089658128261, -3736.556626220712, -5813.026304300374, -1981.3680406028955], 'Flow patient 3': [-3275.499630936902, -5052.855708778199, -3357.988538881412, 1829.2611368961657], 'xPAP CPAP': ['nil', 4.802724465407505, 3.4459888207945926, 10.376277538186075], 'xPAP IPAP': ['nil', 4.802724465407505, 3.4459888207945926, 10.376277538186075], 'xPAP EPAP': ['nil', 4.802724465407505, 3.4459888207945926, 6.576235558750487], 'Leak Total': [-3275.499630936902, 23.113929361795556, 16.10992711249837, 35.58537638190462], 'PulseRate': [1.0073919932404005, 1.689962675452516, 0.9915285362066281, 2.377560344623727], 'ECG IIHF': [-10142.9997401323, -2938.7869078069534, -1951.2155483206143, -3271.0227855118337]}\n"
     ]
    }
   ],
   "source": [
    "combined_cv_dict = {}\n",
    "\n",
    "for i in range(32):\n",
    "    if i in [22, 29, 31]:\n",
    "        continue\n",
    "    combined_cv_dict[labels[i]] = []\n",
    "    cv_1 = find_cv(normal_signals[i])\n",
    "    cv_2 = find_cv(mild_signals[i])\n",
    "    cv_3 = find_cv(moderate_signals[i])\n",
    "    cv_4 = find_cv(severe_signals[i])\n",
    "    combined_cv_dict[labels[i]].append(cv_1)\n",
    "    combined_cv_dict[labels[i]].append(cv_2)\n",
    "    combined_cv_dict[labels[i]].append(cv_3)\n",
    "    combined_cv_dict[labels[i]].append(cv_4)\n",
    "\n",
    "print(combined_cv_dict)"
   ]
  },
  {
   "cell_type": "code",
   "execution_count": 23,
   "metadata": {},
   "outputs": [],
   "source": [
    "downsampled_data = combined_cv_dict"
   ]
  },
  {
   "cell_type": "code",
   "execution_count": 27,
   "metadata": {},
   "outputs": [
    {
     "name": "stdout",
     "output_type": "stream",
     "text": [
      "['Effort THO', 'Flow patient 2', 'Effort ABD', 'Flow patient 1', 'ECG II', 'ECG IIHF', 'ECG I', 'Pleth', 'EEG A1-A2', 'Leak Total', 'Flow patient 3', 'EMG Chin', 'Snore', 'EEG C4-A1', 'EOG ROC-A2', 'EOG LOC-A2', 'EEG C3-A2', 'EEG F3-A2', 'Leg 2', 'EEG F4-A1', 'Leg 1', 'EEG O1-A2', 'EEG O2-A1', 'xPAP CPAP', 'xPAP IPAP', 'xPAP EPAP', 'SpO2', 'RR', 'PulseRate']\n",
      "531.2294223510615\n",
      "Top 10 channels based on variability:\n",
      "Effort THO: 64884.28358235983\n",
      "Flow patient 2: 52995.5121821811\n",
      "Effort ABD: 15621.006473153351\n",
      "Flow patient 1: 14217.660126001356\n",
      "ECG II: 8821.70980461927\n",
      "ECG IIHF: 8191.784191811686\n",
      "ECG I: 7120.12687420609\n",
      "Pleth: 5639.936646172113\n",
      "EEG A1-A2: 3490.3757582807016\n",
      "Leak Total: 3259.3897038244036\n"
     ]
    }
   ],
   "source": [
    "channel_variability = {}\n",
    "\n",
    "for channel, vmr_values in downsampled_data.items():\n",
    "    # abs_vmr_values = [abs(value) for value in vmr_values]\n",
    "    # variability = max(abs_vmr_values) - min(abs_vmr_values)\n",
    "    # channel_variability[channel] = variability\n",
    "    abs_vmr_values = []\n",
    "    for value in vmr_values:\n",
    "        try:\n",
    "            abs_vmr_values.append(abs(float(value)))\n",
    "        except ValueError:\n",
    "            continue  # Skip non-numeric values\n",
    "    if abs_vmr_values:  # Ensure the list is not empty\n",
    "        variability = max(abs_vmr_values) - min(abs_vmr_values)\n",
    "        channel_variability[channel] = variability\n",
    "\n",
    "sorted_channels = sorted(channel_variability, key=channel_variability.get, reverse=True)\n",
    "\n",
    "top_10_channels = sorted_channels[:10]\n",
    "print(sorted_channels)\n",
    "print(channel_variability['Snore'])\n",
    "print(\"Top 10 channels based on variability:\")\n",
    "for channel in top_10_channels:\n",
    "    print(f\"{channel}: {channel_variability[channel]}\")"
   ]
  },
  {
   "cell_type": "code",
   "execution_count": 28,
   "metadata": {},
   "outputs": [
    {
     "name": "stdout",
     "output_type": "stream",
     "text": [
      "{'EEG F3-A2': 182.428689326025, 'EEG F4-A1': 155.4206859818985, 'EEG A1-A2': 3490.3757582807016, 'EEG C3-A2': 206.42817562199613, 'EEG C4-A1': 510.62372770331064, 'EEG O1-A2': 14.388575671451488, 'EEG O2-A1': 14.152747483302848, 'EOG LOC-A2': 219.86870995080065, 'EOG ROC-A2': 281.8797117960404, 'EMG Chin': 2036.861430416343, 'Leg 1': 133.5932183594905, 'Leg 2': 156.66833635010613, 'ECG I': 7120.12687420609, 'RR': 2.636915429510604, 'ECG II': 8821.70980461927, 'Snore': 531.2294223510615, 'Flow patient 1': 14217.660126001356, 'Flow patient 2': 52995.5121821811, 'Effort THO': 64884.28358235983, 'Effort ABD': 15621.006473153351, 'SpO2': 2.6839037946938578, 'Pleth': 5639.936646172113, 'Flow patient 3': 3223.5945718820335, 'xPAP CPAP': 6.930288717391482, 'xPAP IPAP': 6.930288717391482, 'xPAP EPAP': 3.1302467379558947, 'Leak Total': 3259.3897038244036, 'PulseRate': 1.3860318084170986, 'ECG IIHF': 8191.784191811686}\n"
     ]
    }
   ],
   "source": [
    "print(channel_variability)"
   ]
  },
  {
   "cell_type": "code",
   "execution_count": null,
   "metadata": {},
   "outputs": [],
   "source": []
  }
 ],
 "metadata": {
  "kernelspec": {
   "display_name": "Python 3",
   "language": "python",
   "name": "python3"
  },
  "language_info": {
   "codemirror_mode": {
    "name": "ipython",
    "version": 3
   },
   "file_extension": ".py",
   "mimetype": "text/x-python",
   "name": "python",
   "nbconvert_exporter": "python",
   "pygments_lexer": "ipython3",
   "version": "3.11.4"
  }
 },
 "nbformat": 4,
 "nbformat_minor": 2
}
