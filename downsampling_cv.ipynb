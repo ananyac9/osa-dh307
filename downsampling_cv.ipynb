{
 "cells": [
  {
   "cell_type": "code",
   "execution_count": 6,
   "metadata": {},
   "outputs": [
    {
     "name": "stdout",
     "output_type": "stream",
     "text": [
      "['EEG F3-A2', 'EEG F4-A1', 'EEG A1-A2', 'EEG C3-A2', 'EEG C4-A1', 'EEG O1-A2', 'EEG O2-A1', 'EOG LOC-A2', 'EOG ROC-A2', 'EMG Chin', 'Leg 1', 'Leg 2', 'ECG I', 'RR', 'ECG II', 'Snore', 'Flow Patient', 'Flow Patient', 'Effort THO', 'Effort ABD', 'SpO2', 'Pleth', 'Body', 'Flow Patient', 'xPAP CPAP', 'xPAP IPAP', 'xPAP EPAP', 'Leak Total', 'PulseRate', 'PressCheck', 'ECG IIHF', 'Technical']\n"
     ]
    }
   ],
   "source": [
    "from pyedflib import highlevel\n",
    "import pyedflib as plib\n",
    "import numpy as np\n",
    "import matplotlib.pyplot as plt\n",
    "\n",
    "def read_file_signal(file_path, index):\n",
    "    f = plib.EdfReader(file_path)\n",
    "    signal = f.readSignal(index)\n",
    "    f.close()\n",
    "    return signal\n",
    "\n",
    "def signal_labels(file_path):\n",
    "    f = plib.EdfReader(file_path)\n",
    "    labels = f.getSignalLabels()\n",
    "    f.close()\n",
    "    return labels\n",
    "\n",
    "def combined_signal(file_list, index):\n",
    "    combined_signals = []\n",
    "    for file in file_list:\n",
    "        temp = read_file_signal(file, index)\n",
    "        combined_signals.append(temp)\n",
    "    return np.concatenate(combined_signals)\n",
    "\n",
    "edf_files_severe = [\n",
    "    \"c:\\\\Users\\\\anany\\\\Downloads\\\\00000066-297469[001].edf\",\n",
    "    \"c:\\\\Users\\\\anany\\\\Downloads\\\\00000066-297469[002].edf\",\n",
    "    \"c:\\\\Users\\\\anany\\\\Downloads\\\\00000066-297469[003].edf\",\n",
    "    \"c:\\\\Users\\\\anany\\\\Downloads\\\\00000066-297469[004].edf\",\n",
    "    \"c:\\\\Users\\\\anany\\\\Downloads\\\\00000066-297469[005].edf\",\n",
    "    \"c:\\\\Users\\\\anany\\\\Downloads\\\\00000066-297469[006].edf\",\n",
    "    \"c:\\\\Users\\\\anany\\\\Downloads\\\\00000066-297469[007].edf\"\n",
    "]\n",
    "\n",
    "edf_files_normal = [\n",
    "    \"C:\\\\Users\\\\anany\\\\Downloads\\\\00000064-297469[001].edf\",\n",
    "    \"C:\\\\Users\\\\anany\\\\Downloads\\\\00000064-297469[002].edf\",\n",
    "    \"C:\\\\Users\\\\anany\\\\Downloads\\\\00000064-297469[003].edf\",\n",
    "    \"C:\\\\Users\\\\anany\\\\Downloads\\\\00000064-297469[004].edf\",\n",
    "    \"C:\\\\Users\\\\anany\\\\Downloads\\\\00000064-297469[005].edf\",\n",
    "    \"C:\\\\Users\\\\anany\\\\Downloads\\\\00000064-297469[006].edf\",\n",
    "    \"C:\\\\Users\\\\anany\\\\Downloads\\\\00000064-297469[007].edf\",\n",
    "    \"C:\\\\Users\\\\anany\\\\Downloads\\\\00000064-297469[008].edf\",\n",
    "    \"C:\\\\Users\\\\anany\\\\Downloads\\\\00000064-297469[009].edf\"\n",
    "]\n",
    "\n",
    "edf_files_moderate = [\n",
    "    \"C:\\\\Users\\\\anany\\\\Downloads\\\\00000074-297469[001].edf\",\n",
    "    \"C:\\\\Users\\\\anany\\\\Downloads\\\\00000074-297469[002].edf\",\n",
    "    \"C:\\\\Users\\\\anany\\\\Downloads\\\\00000074-297469[003].edf\",\n",
    "    \"C:\\\\Users\\\\anany\\\\Downloads\\\\00000074-297469[004].edf\",\n",
    "    \"C:\\\\Users\\\\anany\\\\Downloads\\\\00000074-297469[005].edf\",\n",
    "    \"C:\\\\Users\\\\anany\\\\Downloads\\\\00000074-297469[006].edf\",\n",
    "    \"C:\\\\Users\\\\anany\\\\Downloads\\\\00000074-297469[007].edf\",\n",
    "    \"C:\\\\Users\\\\anany\\\\Downloads\\\\00000074-297469[008].edf\",\n",
    "    \"C:\\\\Users\\\\anany\\\\Downloads\\\\00000074-297469[009].edf\"\n",
    "]\n",
    "\n",
    "edf_files_mild = [\n",
    "    \"C:\\\\Users\\\\anany\\\\Downloads\\\\00000067-297469[001].edf\",\n",
    "    \"C:\\\\Users\\\\anany\\\\Downloads\\\\00000067-297469[002].edf\",\n",
    "    \"C:\\\\Users\\\\anany\\\\Downloads\\\\00000067-297469[003].edf\",\n",
    "    \"C:\\\\Users\\\\anany\\\\Downloads\\\\00000067-297469[004].edf\",\n",
    "    \"C:\\\\Users\\\\anany\\\\Downloads\\\\00000067-297469[005].edf\",\n",
    "    \"C:\\\\Users\\\\anany\\\\Downloads\\\\00000067-297469[006].edf\",\n",
    "    \"C:\\\\Users\\\\anany\\\\Downloads\\\\00000067-297469[007].edf\",\n",
    "    \"C:\\\\Users\\\\anany\\\\Downloads\\\\00000067-297469[008].edf\",\n",
    "    \"C:\\\\Users\\\\anany\\\\Downloads\\\\00000067-297469[009].edf\",\n",
    "    \"C:\\\\Users\\\\anany\\\\Downloads\\\\00000067-297469[010].edf\",\n",
    "    \"C:\\\\Users\\\\anany\\\\Downloads\\\\00000067-297469[011].edf\",\n",
    "]\n",
    "\n",
    "labels = signal_labels(edf_files_normal[0])\n",
    "print(labels)\n",
    "labels[16] = \"Flow patient 1\"\n",
    "labels[17] = \"Flow patient 2\"\n",
    "labels[23] = \"Flow patient 3\"\n",
    "cv_dict = {}"
   ]
  },
  {
   "cell_type": "code",
   "execution_count": 7,
   "metadata": {},
   "outputs": [],
   "source": [
    "import statistics as stat\n",
    "import matplotlib.pyplot as plt\n",
    "\n",
    "def plot_signal(label, signal):\n",
    "    plt.figure(figsize=(20, 10))\n",
    "    plt.plot(signal)\n",
    "    plt.title(f\"{label} signal\")\n",
    "    plt.xlabel(\"time\")\n",
    "    plt.ylabel(\"amplitude\")\n",
    "    # plt.ylim(-300, 300)\n",
    "    plt.show()\n",
    "\n",
    "def thresholding(signal, threshold, replace_with):\n",
    "    mean = signal.mean()\n",
    "    std = stat.stdev(signal)\n",
    "    lower_limit = mean - threshold * std\n",
    "    upper_limit = mean + threshold * std\n",
    "    filtered_signal = np.where((signal >= lower_limit) & (signal <= upper_limit), signal, replace_with)\n",
    "    return filtered_signal\n",
    "\n",
    "def resample_signal(signal, num_samples):\n",
    "    original_indices = np.linspace(0, len(signal) - 1, num=len(signal))\n",
    "    resampled_indices = np.linspace(0, len(signal) - 1, num=num_samples)\n",
    "    resampled_signal = np.interp(resampled_indices, original_indices, signal)\n",
    "    return resampled_signal"
   ]
  },
  {
   "cell_type": "code",
   "execution_count": 8,
   "metadata": {},
   "outputs": [],
   "source": [
    "normal_dnd_signals = []\n",
    "\n",
    "for i in range(32):\n",
    "    combined_sig = combined_signal(edf_files_normal, i)\n",
    "    resampled_signal = resample_signal(combined_sig, 25200)\n",
    "    normal_dnd_signals.append(resampled_signal)"
   ]
  },
  {
   "cell_type": "code",
   "execution_count": 9,
   "metadata": {},
   "outputs": [],
   "source": [
    "mild_dnd_signals = []\n",
    "\n",
    "for i in range(32):\n",
    "    combined_sig = combined_signal(edf_files_mild, i)\n",
    "    resampled_signal = resample_signal(combined_sig, 25200)\n",
    "    mild_dnd_signals.append(resampled_signal)"
   ]
  },
  {
   "cell_type": "code",
   "execution_count": 10,
   "metadata": {},
   "outputs": [],
   "source": [
    "moderate_dnd_signals = []\n",
    "\n",
    "for i in range(32):\n",
    "    combined_sig = combined_signal(edf_files_moderate, i)\n",
    "    resampled_signal = resample_signal(combined_sig, 25200)\n",
    "    moderate_dnd_signals.append(resampled_signal)"
   ]
  },
  {
   "cell_type": "code",
   "execution_count": 11,
   "metadata": {},
   "outputs": [],
   "source": [
    "severe_dnd_signals = []\n",
    "\n",
    "for i in range(32):\n",
    "    combined_sig = combined_signal(edf_files_severe, i)\n",
    "    resampled_signal = resample_signal(combined_sig, 25200)\n",
    "    severe_dnd_signals.append(resampled_signal)"
   ]
  },
  {
   "cell_type": "code",
   "execution_count": 12,
   "metadata": {},
   "outputs": [
    {
     "name": "stdout",
     "output_type": "stream",
     "text": [
      "{'EEG F3-A2': [-71.09889122098399, -5.944775050451295, -4.838865799036204, -4.78059500017959], 'EEG F4-A1': [-15.457814234019873, -12.42390685587176, -12.879373558160795, -12.823371259723839], 'EEG A1-A2': [-3.289677894735132, -0.023976301885174488, 0.09807358454415926, 0.05522640031200316], 'EEG C3-A2': [-8.838248816762325, -6.8816839340735765, -8.30765571349749, -5.950020243115671], 'EEG C4-A1': [5.578985195081533, 8.117029025648993, 8.51814770027324, 8.49316590586474], 'EEG O1-A2': [296.07442778615297, 306.5930790712816, 294.0347882929214, 304.41004018134385], 'EEG O2-A1': [299.0333856126634, 308.5329599572112, 298.8927991081168, 307.5124990576381], 'EOG LOC-A2': [11.736686702964475, 14.313276137976352, 14.831772624050972, 17.17489120691224], 'EOG ROC-A2': [-7.884775023427137, -4.871634467001091, -5.038281079960939, -5.020222097472903], 'EMG Chin': [-0.9282168296677968, -0.08738165681203157, -0.07107379939948266, -0.08653167104348154], 'Leg 1': [-0.9391252321003928, -0.06424394205422103, -0.10878167024931083, -0.09942228487591823], 'Leg 2': [-0.9534452570376168, -0.07470763821651913, -0.13822110417241593, -0.12140254348362867], 'ECG I': [-134.5888516056513, -44.331283274989644, -46.94542558831123, -41.28152420335453], 'RR': [184.83042271770327, 188.09927933175737, 188.78223195113344, 188.52114976218192], 'ECG II': [-116.56143995875689, -19.54030747273357, -19.88424097752794, -20.05830069660232], 'Snore': [-1.046058009965649, -0.01154338251973934, -0.013059858731197338, 0.012761179693971331], 'Flow patient 1': [-1.0261397019931906, -0.009443050776174803, 0.002530594503034134, -0.0651152601859588], 'Flow patient 2': [-1.0959308373404817, -0.012897165841993347, -0.02951020136119286, 12.069802056582414], 'Effort THO': [-1.049797848323326, -0.018702706402967846, -0.016040782039524946, 0.00019214728514502062], 'Effort ABD': [-1.0420545141162427, -0.03134494188260371, -0.0028511727181652394, -0.020995300026058476], 'SpO2': [94.41817599999241, 92.3827426463131, 95.51601376692322, 89.61837301587302], 'Pleth': [-0.9685205975291544, -0.034916177904846094, -0.016020352170771506, -0.09292812267182435], 'Flow patient 3': [-1.43034920634957, -0.01509885328644938, -0.022016680241201885, 0.09464536669049323], 'xPAP CPAP': [0.0, 2.2483640908841807, 4.441599305244539, 11.382710317460319], 'xPAP IPAP': [0.0, 2.2483640908841807, 4.441599305244539, 11.382710317460319], 'xPAP EPAP': [0.0, 2.2483640908841807, 4.441599305244539, 7.8363611111111116], 'Leak Total': [-1.43034920634957, 11.053092506190035, 20.620311168180233, 41.752581472589036], 'PulseRate': [75.85369602566742, 68.99875796753084, 66.49308319428145, 65.64174603174604], 'ECG IIHF': [-117.07669469492758, -19.388805200323446, -18.062062445729204, -19.578842437052607], 'Technical': [30486.717986724983, 30795.586371876438, 30800.694881815933, 30838.491102951066]}\n"
     ]
    }
   ],
   "source": [
    "means_dict = {}\n",
    "\n",
    "for i in range(32):\n",
    "    if i in [22, 29, 37]:\n",
    "        continue \n",
    "    means_dict[labels[i]] = []\n",
    "    m1 = normal_dnd_signals[i].mean()\n",
    "    m2 = mild_dnd_signals[i].mean()\n",
    "    m3 = moderate_dnd_signals[i].mean()\n",
    "    m4 = severe_dnd_signals[i].mean()\n",
    "    means_dict[labels[i]].append(m1)\n",
    "    means_dict[labels[i]].append(m2)\n",
    "    means_dict[labels[i]].append(m3)\n",
    "    means_dict[labels[i]].append(m4)\n",
    "\n",
    "print(means_dict)"
   ]
  },
  {
   "cell_type": "code",
   "execution_count": 13,
   "metadata": {},
   "outputs": [
    {
     "name": "stdout",
     "output_type": "stream",
     "text": [
      "['ECG IIHF', 'ECG II', 'EEG F3-A2', 'ECG I', 'Leak Total']\n",
      "ECG IIHF: 55.247344034762314\n",
      "ECG II: 53.15490756297912\n",
      "EEG F3-A2: 50.141078538246326\n",
      "ECG I: 30.6725796034319\n",
      "Leak Total: 18.461288353632515\n",
      "Flow patient 2: 14.271708329988064\n",
      "xPAP CPAP: 5.363062267916053\n",
      "xPAP IPAP: 5.363062267916053\n",
      "EEG A1-A2: 3.517860616359823\n",
      "xPAP EPAP: 3.0691842705461045\n",
      "Flow patient 3: 1.5388390541072037\n",
      "Snore: 1.0270861418328747\n",
      "Effort THO: 0.9944267324508562\n",
      "Effort ABD: 0.9555097539475177\n",
      "Flow patient 1: 0.9176564857599058\n",
      "Technical: 0.870531159236068\n",
      "Pleth: 0.7656739887763762\n",
      "EMG Chin: 0.6110439338053534\n",
      "Leg 1: 0.5951759226108382\n",
      "Leg 2: 0.5527777184639167\n",
      "EOG ROC-A2: 0.3716484786838994\n",
      "EOG LOC-A2: 0.3430003069363866\n",
      "PulseRate: 0.30948217576403103\n",
      "EEG C4-A1: 0.25917582605867856\n",
      "EEG C3-A2: 0.2325221850200595\n",
      "EEG F4-A1: 0.14409274326542937\n",
      "EEG O1-A2: 0.12610720706510728\n",
      "EEG O2-A1: 0.09072982681115203\n",
      "SpO2: 0.07225955518483519\n",
      "RR: 0.0180549439131068\n"
     ]
    }
   ],
   "source": [
    "cv_dict = {}\n",
    "\n",
    "for channel, mean_vals in means_dict.items():\n",
    "    var = stat.variance(mean_vals)\n",
    "    mean = abs((mean_vals[0]+mean_vals[1]+mean_vals[2]+mean_vals[3])*0.25)\n",
    "    cv = var / mean\n",
    "    cv_dict[channel] = cv\n",
    "\n",
    "sorted_channels = sorted(cv_dict, key=cv_dict.get, reverse=True)\n",
    "\n",
    "top_5 = sorted_channels[:5]\n",
    "print(top_5)\n",
    "for channel in sorted_channels:\n",
    "    print(f\"{channel}: {cv_dict[channel]}\")"
   ]
  },
  {
   "cell_type": "code",
   "execution_count": 14,
   "metadata": {},
   "outputs": [
    {
     "name": "stdout",
     "output_type": "stream",
     "text": [
      "{'EEG F3-A2': 50.141078538246326, 'EEG F4-A1': 0.14409274326542937, 'EEG A1-A2': 3.517860616359823, 'EEG C3-A2': 0.2325221850200595, 'EEG C4-A1': 0.25917582605867856, 'EEG O1-A2': 0.12610720706510728, 'EEG O2-A1': 0.09072982681115203, 'EOG LOC-A2': 0.3430003069363866, 'EOG ROC-A2': 0.3716484786838994, 'EMG Chin': 0.6110439338053534, 'Leg 1': 0.5951759226108382, 'Leg 2': 0.5527777184639167, 'ECG I': 30.6725796034319, 'RR': 0.0180549439131068, 'ECG II': 53.15490756297912, 'Snore': 1.0270861418328747, 'Flow patient 1': 0.9176564857599058, 'Flow patient 2': 14.271708329988064, 'Effort THO': 0.9944267324508562, 'Effort ABD': 0.9555097539475177, 'SpO2': 0.07225955518483519, 'Pleth': 0.7656739887763762, 'Flow patient 3': 1.5388390541072037, 'xPAP CPAP': 5.363062267916053, 'xPAP IPAP': 5.363062267916053, 'xPAP EPAP': 3.0691842705461045, 'Leak Total': 18.461288353632515, 'PulseRate': 0.30948217576403103, 'ECG IIHF': 55.247344034762314, 'Technical': 0.870531159236068}\n"
     ]
    }
   ],
   "source": [
    "print(cv_dict)"
   ]
  },
  {
   "cell_type": "code",
   "execution_count": null,
   "metadata": {},
   "outputs": [],
   "source": []
  }
 ],
 "metadata": {
  "kernelspec": {
   "display_name": "Python 3",
   "language": "python",
   "name": "python3"
  },
  "language_info": {
   "codemirror_mode": {
    "name": "ipython",
    "version": 3
   },
   "file_extension": ".py",
   "mimetype": "text/x-python",
   "name": "python",
   "nbconvert_exporter": "python",
   "pygments_lexer": "ipython3",
   "version": "3.11.4"
  }
 },
 "nbformat": 4,
 "nbformat_minor": 2
}
