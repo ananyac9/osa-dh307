{
 "cells": [
  {
   "cell_type": "code",
   "execution_count": 2,
   "metadata": {},
   "outputs": [
    {
     "name": "stdout",
     "output_type": "stream",
     "text": [
      "['EEG F3-A2', 'EEG F4-A1', 'EEG A1-A2', 'EEG C3-A2', 'EEG C4-A1', 'EEG O1-A2', 'EEG O2-A1', 'EOG LOC-A2', 'EOG ROC-A2', 'EMG Chin', 'Leg 1', 'Leg 2', 'ECG I', 'RR', 'ECG II', 'Snore', 'Flow Patient', 'Flow Patient', 'Effort THO', 'Effort ABD', 'SpO2', 'Pleth', 'Body', 'Flow Patient', 'xPAP CPAP', 'xPAP IPAP', 'xPAP EPAP', 'Leak Total', 'PulseRate', 'PressCheck', 'ECG IIHF', 'Technical']\n"
     ]
    }
   ],
   "source": [
    "from pyedflib import highlevel\n",
    "import pyedflib as plib\n",
    "import numpy as np\n",
    "import matplotlib.pyplot as plt\n",
    "\n",
    "def read_file_signal(file_path, index):\n",
    "    f = plib.EdfReader(file_path)\n",
    "    signal = f.readSignal(index)\n",
    "    f.close()\n",
    "    return signal\n",
    "\n",
    "def signal_labels(file_path):\n",
    "    f = plib.EdfReader(file_path)\n",
    "    labels = f.getSignalLabels()\n",
    "    f.close()\n",
    "    return labels\n",
    "\n",
    "def combined_signal(file_list, index):\n",
    "    combined_signals = []\n",
    "    for file in file_list:\n",
    "        temp = read_file_signal(file, index)\n",
    "        combined_signals.append(temp)\n",
    "    return np.concatenate(combined_signals)\n",
    "\n",
    "edf_files_severe = [\n",
    "    \"c:\\\\Users\\\\anany\\\\Downloads\\\\00000066-297469[001].edf\",\n",
    "    \"c:\\\\Users\\\\anany\\\\Downloads\\\\00000066-297469[002].edf\",\n",
    "    \"c:\\\\Users\\\\anany\\\\Downloads\\\\00000066-297469[003].edf\",\n",
    "    \"c:\\\\Users\\\\anany\\\\Downloads\\\\00000066-297469[004].edf\",\n",
    "    \"c:\\\\Users\\\\anany\\\\Downloads\\\\00000066-297469[005].edf\",\n",
    "    \"c:\\\\Users\\\\anany\\\\Downloads\\\\00000066-297469[006].edf\",\n",
    "    \"c:\\\\Users\\\\anany\\\\Downloads\\\\00000066-297469[007].edf\"\n",
    "]\n",
    "\n",
    "edf_files_normal = [\n",
    "    \"C:\\\\Users\\\\anany\\\\Downloads\\\\00000064-297469[001].edf\",\n",
    "    \"C:\\\\Users\\\\anany\\\\Downloads\\\\00000064-297469[002].edf\",\n",
    "    \"C:\\\\Users\\\\anany\\\\Downloads\\\\00000064-297469[003].edf\",\n",
    "    \"C:\\\\Users\\\\anany\\\\Downloads\\\\00000064-297469[004].edf\",\n",
    "    \"C:\\\\Users\\\\anany\\\\Downloads\\\\00000064-297469[005].edf\",\n",
    "    \"C:\\\\Users\\\\anany\\\\Downloads\\\\00000064-297469[006].edf\",\n",
    "    \"C:\\\\Users\\\\anany\\\\Downloads\\\\00000064-297469[007].edf\",\n",
    "    \"C:\\\\Users\\\\anany\\\\Downloads\\\\00000064-297469[008].edf\",\n",
    "    \"C:\\\\Users\\\\anany\\\\Downloads\\\\00000064-297469[009].edf\"\n",
    "]\n",
    "\n",
    "edf_files_moderate = [\n",
    "    \"C:\\\\Users\\\\anany\\\\Downloads\\\\00000074-297469[001].edf\",\n",
    "    \"C:\\\\Users\\\\anany\\\\Downloads\\\\00000074-297469[002].edf\",\n",
    "    \"C:\\\\Users\\\\anany\\\\Downloads\\\\00000074-297469[003].edf\",\n",
    "    \"C:\\\\Users\\\\anany\\\\Downloads\\\\00000074-297469[004].edf\",\n",
    "    \"C:\\\\Users\\\\anany\\\\Downloads\\\\00000074-297469[005].edf\",\n",
    "    \"C:\\\\Users\\\\anany\\\\Downloads\\\\00000074-297469[006].edf\",\n",
    "    \"C:\\\\Users\\\\anany\\\\Downloads\\\\00000074-297469[007].edf\",\n",
    "    \"C:\\\\Users\\\\anany\\\\Downloads\\\\00000074-297469[008].edf\",\n",
    "    \"C:\\\\Users\\\\anany\\\\Downloads\\\\00000074-297469[009].edf\"\n",
    "]\n",
    "\n",
    "edf_files_mild = [\n",
    "    \"C:\\\\Users\\\\anany\\\\Downloads\\\\00000067-297469[001].edf\",\n",
    "    \"C:\\\\Users\\\\anany\\\\Downloads\\\\00000067-297469[002].edf\",\n",
    "    \"C:\\\\Users\\\\anany\\\\Downloads\\\\00000067-297469[003].edf\",\n",
    "    \"C:\\\\Users\\\\anany\\\\Downloads\\\\00000067-297469[004].edf\",\n",
    "    \"C:\\\\Users\\\\anany\\\\Downloads\\\\00000067-297469[005].edf\",\n",
    "    \"C:\\\\Users\\\\anany\\\\Downloads\\\\00000067-297469[006].edf\",\n",
    "    \"C:\\\\Users\\\\anany\\\\Downloads\\\\00000067-297469[007].edf\",\n",
    "    \"C:\\\\Users\\\\anany\\\\Downloads\\\\00000067-297469[008].edf\",\n",
    "    \"C:\\\\Users\\\\anany\\\\Downloads\\\\00000067-297469[009].edf\",\n",
    "    \"C:\\\\Users\\\\anany\\\\Downloads\\\\00000067-297469[010].edf\",\n",
    "    \"C:\\\\Users\\\\anany\\\\Downloads\\\\00000067-297469[011].edf\",\n",
    "]\n",
    "\n",
    "labels = signal_labels(edf_files_normal[0])\n",
    "print(labels)\n",
    "labels[16] = \"Flow patient 1\"\n",
    "labels[17] = \"Flow patient 2\"\n",
    "labels[23] = \"Flow patient 3\"\n",
    "cv_dict = {}"
   ]
  },
  {
   "cell_type": "code",
   "execution_count": 3,
   "metadata": {},
   "outputs": [],
   "source": [
    "import statistics as stat\n",
    "import matplotlib.pyplot as plt\n",
    "\n",
    "def plot_signal(label, signal):\n",
    "    plt.figure(figsize=(20, 10))\n",
    "    plt.plot(signal)\n",
    "    plt.title(f\"{label} signal\")\n",
    "    plt.xlabel(\"time\")\n",
    "    plt.ylabel(\"amplitude\")\n",
    "    # plt.ylim(-300, 300)\n",
    "    plt.show()\n",
    "\n",
    "def thresholding(signal, threshold, replace_with):\n",
    "    mean = signal.mean()\n",
    "    std = stat.stdev(signal)\n",
    "    lower_limit = mean - threshold * std\n",
    "    upper_limit = mean + threshold * std\n",
    "    filtered_signal = np.where((signal >= lower_limit) & (signal <= upper_limit), signal, replace_with)\n",
    "    return filtered_signal\n",
    "\n",
    "def resample_signal(signal, num_samples):\n",
    "    original_indices = np.linspace(0, len(signal) - 1, num=len(signal))\n",
    "    resampled_indices = np.linspace(0, len(signal) - 1, num=num_samples)\n",
    "    resampled_signal = np.interp(resampled_indices, original_indices, signal)\n",
    "    return resampled_signal"
   ]
  },
  {
   "cell_type": "code",
   "execution_count": 4,
   "metadata": {},
   "outputs": [],
   "source": [
    "normal_dnd_signals = []\n",
    "\n",
    "for i in range(32):\n",
    "    combined_sig = combined_signal(edf_files_normal, i)\n",
    "    resampled_signal = resample_signal(combined_sig, 25200)\n",
    "    if i in [23, 37]:\n",
    "        thresholded_signal = thresholding(resampled_signal, 2, 0)\n",
    "    else:\n",
    "        thresholded_signal = thresholding(resampled_signal, 2, resampled_signal.mean())\n",
    "    normal_dnd_signals.append(thresholded_signal)"
   ]
  },
  {
   "cell_type": "code",
   "execution_count": 5,
   "metadata": {},
   "outputs": [],
   "source": [
    "mild_dnd_signals = []\n",
    "\n",
    "for i in range(32):\n",
    "    combined_sig = combined_signal(edf_files_mild, i)\n",
    "    resampled_signal = resample_signal(combined_sig, 25200)\n",
    "    thresholded_signal = thresholding(resampled_signal, 2, resampled_signal.mean())\n",
    "    mild_dnd_signals.append(thresholded_signal)"
   ]
  },
  {
   "cell_type": "code",
   "execution_count": 6,
   "metadata": {},
   "outputs": [],
   "source": [
    "moderate_dnd_signals = []\n",
    "\n",
    "for i in range(32):\n",
    "    combined_sig = combined_signal(edf_files_moderate, i)\n",
    "    resampled_signal = resample_signal(combined_sig, 25200)\n",
    "    thresholded_signal = thresholding(resampled_signal, 2, resampled_signal.mean())\n",
    "    moderate_dnd_signals.append(thresholded_signal)"
   ]
  },
  {
   "cell_type": "code",
   "execution_count": 7,
   "metadata": {},
   "outputs": [],
   "source": [
    "severe_dnd_signals = []\n",
    "\n",
    "for i in range(32):\n",
    "    combined_sig = combined_signal(edf_files_severe, i)\n",
    "    resampled_signal = resample_signal(combined_sig, 25200)\n",
    "    thresholded_signal = thresholding(resampled_signal, 2, resampled_signal.mean())\n",
    "    severe_dnd_signals.append(thresholded_signal)"
   ]
  },
  {
   "cell_type": "code",
   "execution_count": 8,
   "metadata": {},
   "outputs": [],
   "source": [
    "import statistics as stats\n",
    "def find_cv(channel):\n",
    "    mean = channel.mean()\n",
    "    var = stats.variance(channel)\n",
    "    if mean == 0:\n",
    "        return 'nil'\n",
    "    return var/mean"
   ]
  },
  {
   "cell_type": "code",
   "execution_count": 9,
   "metadata": {},
   "outputs": [
    {
     "name": "stdout",
     "output_type": "stream",
     "text": [
      "{'EEG F3-A2': [-213.80383869963416, -80.52653796638246, -42.180295603685444, -68.99165807749296], 'EEG F4-A1': [-43.461243962070974, -44.15736849196938, -17.036283535533382, -27.00533467139078], 'EEG A1-A2': [-12.424337294233709, -117.52137845892541, 7.2985204826246, 15.575334150965125], 'EEG C3-A2': [-84.13530105007662, -39.210157439129254, -19.81696387756552, -40.92276616103842], 'EEG C4-A1': [53.295106558120374, 29.802882366473295, 17.6337690524196, 38.33348128728897], 'EEG O1-A2': [2.1638240431878226, 0.2715491834519041, 1.5120125020584299, 0.3608391566443004], 'EEG O2-A1': [1.4904117386164446, 0.14705732190331894, 0.8716571482391934, 0.15095465748563194], 'EOG LOC-A2': [46.23739983925256, 23.79556887631528, 14.098735307422421, 33.09692798596699], 'EOG ROC-A2': [-121.49384919160944, -81.52895782363076, -42.819183527898986, -89.60871654405291], 'EMG Chin': [-180.77500074942654, -99.11459226144761, -130.0918583144745, -366.2999435460866], 'Leg 1': [-65.64848645528355, -149.4330652414259, -54.79053047886734, -90.25173852119937], 'Leg 2': [-60.06166113952943, -175.77595360159538, -73.53079576587614, -104.71307292195492], 'ECG I': [-1236.908217492397, -444.33038777241205, -113.46933390481415, -97.24700585307875], 'RR': [1.597972971483684, 0.9526555895746388, 0.8512826929522218, 0.8524683553054085], 'ECG II': [-2774.5543247881938, -2142.0884334619886, -257.847122418727, -379.8149574460882], 'Snore': [-6.927756232711186, -9.495135198197273, -13.108550782536923, -350.378208405544], 'Flow patient 1': [-1340.8344069674858, -294.53267953741226, -34.618488575296865, 270.99716058893847], 'Flow patient 2': [-627.2754802491881, 264.3805656985929, -287.6957536352707, 407.5549478732572], 'Effort THO': [-158.39760883278646, -360.3707615545007, -114.61610464990902, -80.11365629719987], 'Effort ABD': [-263.465630344863, -84.13822801574094, -189.5754958973853, -111.71461062029931], 'SpO2': [0.011442518161671097, 0.01950894319786234, 0.022761087671746325, 0.38403472233613317], 'Pleth': [2001.3166824150096, -54.17234652887166, -51.525032602004124, -71.45431446081038], 'Flow patient 3': [-1.5880696407797468e-16, -281.1518655252803, -122.95965212354618, -198.0714856598666], 'xPAP CPAP': ['nil', 4.611568749690431, 3.4459888207945926, 10.376277538186075], 'xPAP IPAP': ['nil', 4.611568749690431, 3.4459888207945926, 10.376277538186075], 'xPAP EPAP': ['nil', 4.611568749690431, 3.4459888207945926, 6.576235558750487], 'Leak Total': [-1.4297815841000414, 22.579279285624807, 16.102268853905596, 35.45350675261179], 'PulseRate': [0.17745692684408865, 0.40550844139651215, 0.8151189199672587, 0.5890910373108602], 'ECG IIHF': [-2629.1093269939815, -1995.7967165363632, -303.58894696207, -391.4559441832079]}\n"
     ]
    }
   ],
   "source": [
    "combined_cv_dict = {}\n",
    "\n",
    "for i in range(32):\n",
    "    if i in [22, 29, 31]:\n",
    "        continue\n",
    "    combined_cv_dict[labels[i]] = []\n",
    "    cv_1 = find_cv(normal_dnd_signals[i])\n",
    "    cv_2 = find_cv(mild_dnd_signals[i])\n",
    "    cv_3 = find_cv(moderate_dnd_signals[i])\n",
    "    cv_4 = find_cv(severe_dnd_signals[i])\n",
    "    combined_cv_dict[labels[i]].append(cv_1)\n",
    "    combined_cv_dict[labels[i]].append(cv_2)\n",
    "    combined_cv_dict[labels[i]].append(cv_3)\n",
    "    combined_cv_dict[labels[i]].append(cv_4)\n",
    "\n",
    "print(combined_cv_dict)"
   ]
  },
  {
   "cell_type": "code",
   "execution_count": 10,
   "metadata": {},
   "outputs": [
    {
     "name": "stdout",
     "output_type": "stream",
     "text": [
      "Top 10 channels based on variability:\n",
      "ECG II: 2516.707202369467\n",
      "ECG IIHF: 2325.5203800319114\n",
      "Pleth: 1949.7916498130055\n",
      "Flow patient 1: 1306.215918392189\n",
      "ECG I: 1139.6612116393183\n",
      "Flow patient 2: 362.8949145505953\n",
      "Snore: 343.4504521728328\n",
      "Flow patient 3: 281.1518655252803\n",
      "Effort THO: 280.25710525730085\n",
      "EMG Chin: 267.18535128463895\n",
      "Effort ABD: 179.32740232912204\n",
      "EEG F3-A2: 171.62354309594872\n",
      "Leg 2: 115.71429246206594\n",
      "EEG A1-A2: 110.22285797630082\n",
      "Leg 1: 94.64253476255857\n",
      "EOG ROC-A2: 78.67466566371046\n",
      "EEG C3-A2: 64.3183371725111\n",
      "EEG C4-A1: 35.66133750570077\n",
      "Leak Total: 34.023725168511746\n",
      "EOG LOC-A2: 32.13866453183014\n",
      "EEG F4-A1: 27.121084956435997\n",
      "xPAP CPAP: 6.930288717391482\n",
      "xPAP IPAP: 6.930288717391482\n",
      "xPAP EPAP: 3.1302467379558947\n",
      "EEG O1-A2: 1.8922748597359185\n",
      "EEG O2-A1: 1.3433544167131257\n",
      "RR: 0.7466902785314621\n",
      "PulseRate: 0.6376619931231701\n",
      "SpO2: 0.3725922041744621\n"
     ]
    }
   ],
   "source": [
    "channel_variability = {}\n",
    "\n",
    "for channel, vmr_values in combined_cv_dict.items():\n",
    "    # abs_vmr_values = [abs(value) for value in vmr_values]\n",
    "    # variability = max(abs_vmr_values) - min(abs_vmr_values)\n",
    "    # channel_variability[channel] = variability\n",
    "    abs_vmr_values = []\n",
    "    for value in vmr_values:\n",
    "        try:\n",
    "            abs_vmr_values.append(abs(float(value)))\n",
    "        except ValueError:\n",
    "            continue  # Skip non-numeric values\n",
    "    if abs_vmr_values:  # Ensure the list is not empty\n",
    "        variability = max(abs_vmr_values) - min(abs_vmr_values)\n",
    "        channel_variability[channel] = variability\n",
    "\n",
    "sorted_channels = sorted(channel_variability, key=channel_variability.get, reverse=True)\n",
    "\n",
    "top_10_channels = sorted_channels[:10]\n",
    "print(\"Top 10 channels based on variability:\")\n",
    "for channel in sorted_channels:\n",
    "    print(f\"{channel}: {channel_variability[channel]}\")"
   ]
  },
  {
   "cell_type": "code",
   "execution_count": 11,
   "metadata": {},
   "outputs": [
    {
     "name": "stdout",
     "output_type": "stream",
     "text": [
      "{'EEG F3-A2': 171.62354309594872, 'EEG F4-A1': 27.121084956435997, 'EEG A1-A2': 110.22285797630082, 'EEG C3-A2': 64.3183371725111, 'EEG C4-A1': 35.66133750570077, 'EEG O1-A2': 1.8922748597359185, 'EEG O2-A1': 1.3433544167131257, 'EOG LOC-A2': 32.13866453183014, 'EOG ROC-A2': 78.67466566371046, 'EMG Chin': 267.18535128463895, 'Leg 1': 94.64253476255857, 'Leg 2': 115.71429246206594, 'ECG I': 1139.6612116393183, 'RR': 0.7466902785314621, 'ECG II': 2516.707202369467, 'Snore': 343.4504521728328, 'Flow patient 1': 1306.215918392189, 'Flow patient 2': 362.8949145505953, 'Effort THO': 280.25710525730085, 'Effort ABD': 179.32740232912204, 'SpO2': 0.3725922041744621, 'Pleth': 1949.7916498130055, 'Flow patient 3': 281.1518655252803, 'xPAP CPAP': 6.930288717391482, 'xPAP IPAP': 6.930288717391482, 'xPAP EPAP': 3.1302467379558947, 'Leak Total': 34.023725168511746, 'PulseRate': 0.6376619931231701, 'ECG IIHF': 2325.5203800319114}\n"
     ]
    }
   ],
   "source": [
    "print(channel_variability)"
   ]
  },
  {
   "cell_type": "code",
   "execution_count": null,
   "metadata": {},
   "outputs": [],
   "source": []
  }
 ],
 "metadata": {
  "kernelspec": {
   "display_name": "Python 3",
   "language": "python",
   "name": "python3"
  },
  "language_info": {
   "codemirror_mode": {
    "name": "ipython",
    "version": 3
   },
   "file_extension": ".py",
   "mimetype": "text/x-python",
   "name": "python",
   "nbconvert_exporter": "python",
   "pygments_lexer": "ipython3",
   "version": "3.11.4"
  }
 },
 "nbformat": 4,
 "nbformat_minor": 2
}
