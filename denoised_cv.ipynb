{
 "cells": [
  {
   "cell_type": "code",
   "execution_count": 1,
   "metadata": {},
   "outputs": [
    {
     "name": "stdout",
     "output_type": "stream",
     "text": [
      "['EEG F3-A2', 'EEG F4-A1', 'EEG A1-A2', 'EEG C3-A2', 'EEG C4-A1', 'EEG O1-A2', 'EEG O2-A1', 'EOG LOC-A2', 'EOG ROC-A2', 'EMG Chin', 'Leg 1', 'Leg 2', 'ECG I', 'RR', 'ECG II', 'Snore', 'Flow Patient', 'Flow Patient', 'Effort THO', 'Effort ABD', 'SpO2', 'Pleth', 'Body', 'Flow Patient', 'xPAP CPAP', 'xPAP IPAP', 'xPAP EPAP', 'Leak Total', 'PulseRate', 'PressCheck', 'ECG IIHF', 'Technical']\n"
     ]
    }
   ],
   "source": [
    "from pyedflib import highlevel\n",
    "import pyedflib as plib\n",
    "import numpy as np\n",
    "import matplotlib.pyplot as plt\n",
    "\n",
    "def read_file_signal(file_path, index):\n",
    "    f = plib.EdfReader(file_path)\n",
    "    signal = f.readSignal(index)\n",
    "    f.close()\n",
    "    return signal\n",
    "\n",
    "def signal_labels(file_path):\n",
    "    f = plib.EdfReader(file_path)\n",
    "    labels = f.getSignalLabels()\n",
    "    f.close()\n",
    "    return labels\n",
    "\n",
    "def combined_signal(file_list, index):\n",
    "    combined_signals = []\n",
    "    for file in file_list:\n",
    "        temp = read_file_signal(file, index)\n",
    "        combined_signals.append(temp)\n",
    "    return np.concatenate(combined_signals)\n",
    "\n",
    "edf_files_severe = [\n",
    "    \"c:\\\\Users\\\\anany\\\\Downloads\\\\00000066-297469[001].edf\",\n",
    "    \"c:\\\\Users\\\\anany\\\\Downloads\\\\00000066-297469[002].edf\",\n",
    "    \"c:\\\\Users\\\\anany\\\\Downloads\\\\00000066-297469[003].edf\",\n",
    "    \"c:\\\\Users\\\\anany\\\\Downloads\\\\00000066-297469[004].edf\",\n",
    "    \"c:\\\\Users\\\\anany\\\\Downloads\\\\00000066-297469[005].edf\",\n",
    "    \"c:\\\\Users\\\\anany\\\\Downloads\\\\00000066-297469[006].edf\",\n",
    "    \"c:\\\\Users\\\\anany\\\\Downloads\\\\00000066-297469[007].edf\"\n",
    "]\n",
    "\n",
    "edf_files_normal = [\n",
    "    \"C:\\\\Users\\\\anany\\\\Downloads\\\\00000064-297469[001].edf\",\n",
    "    \"C:\\\\Users\\\\anany\\\\Downloads\\\\00000064-297469[002].edf\",\n",
    "    \"C:\\\\Users\\\\anany\\\\Downloads\\\\00000064-297469[003].edf\",\n",
    "    \"C:\\\\Users\\\\anany\\\\Downloads\\\\00000064-297469[004].edf\",\n",
    "    \"C:\\\\Users\\\\anany\\\\Downloads\\\\00000064-297469[005].edf\",\n",
    "    \"C:\\\\Users\\\\anany\\\\Downloads\\\\00000064-297469[006].edf\",\n",
    "    \"C:\\\\Users\\\\anany\\\\Downloads\\\\00000064-297469[007].edf\",\n",
    "    \"C:\\\\Users\\\\anany\\\\Downloads\\\\00000064-297469[008].edf\",\n",
    "    \"C:\\\\Users\\\\anany\\\\Downloads\\\\00000064-297469[009].edf\"\n",
    "]\n",
    "\n",
    "edf_files_moderate = [\n",
    "    \"C:\\\\Users\\\\anany\\\\Downloads\\\\00000074-297469[001].edf\",\n",
    "    \"C:\\\\Users\\\\anany\\\\Downloads\\\\00000074-297469[002].edf\",\n",
    "    \"C:\\\\Users\\\\anany\\\\Downloads\\\\00000074-297469[003].edf\",\n",
    "    \"C:\\\\Users\\\\anany\\\\Downloads\\\\00000074-297469[004].edf\",\n",
    "    \"C:\\\\Users\\\\anany\\\\Downloads\\\\00000074-297469[005].edf\",\n",
    "    \"C:\\\\Users\\\\anany\\\\Downloads\\\\00000074-297469[006].edf\",\n",
    "    \"C:\\\\Users\\\\anany\\\\Downloads\\\\00000074-297469[007].edf\",\n",
    "    \"C:\\\\Users\\\\anany\\\\Downloads\\\\00000074-297469[008].edf\",\n",
    "    \"C:\\\\Users\\\\anany\\\\Downloads\\\\00000074-297469[009].edf\"\n",
    "]\n",
    "\n",
    "edf_files_mild = [\n",
    "    \"C:\\\\Users\\\\anany\\\\Downloads\\\\00000067-297469[001].edf\",\n",
    "    \"C:\\\\Users\\\\anany\\\\Downloads\\\\00000067-297469[002].edf\",\n",
    "    \"C:\\\\Users\\\\anany\\\\Downloads\\\\00000067-297469[003].edf\",\n",
    "    \"C:\\\\Users\\\\anany\\\\Downloads\\\\00000067-297469[004].edf\",\n",
    "    \"C:\\\\Users\\\\anany\\\\Downloads\\\\00000067-297469[005].edf\",\n",
    "    \"C:\\\\Users\\\\anany\\\\Downloads\\\\00000067-297469[006].edf\",\n",
    "    \"C:\\\\Users\\\\anany\\\\Downloads\\\\00000067-297469[007].edf\",\n",
    "    \"C:\\\\Users\\\\anany\\\\Downloads\\\\00000067-297469[008].edf\",\n",
    "    \"C:\\\\Users\\\\anany\\\\Downloads\\\\00000067-297469[009].edf\",\n",
    "    \"C:\\\\Users\\\\anany\\\\Downloads\\\\00000067-297469[010].edf\",\n",
    "    \"C:\\\\Users\\\\anany\\\\Downloads\\\\00000067-297469[011].edf\",\n",
    "]\n",
    "\n",
    "labels = signal_labels(edf_files_normal[0])\n",
    "print(labels)\n",
    "labels[16] = \"Flow patient 1\"\n",
    "labels[17] = \"Flow patient 2\"\n",
    "labels[23] = \"Flow patient 3\"\n",
    "cv_dict = {}"
   ]
  },
  {
   "cell_type": "code",
   "execution_count": 2,
   "metadata": {},
   "outputs": [],
   "source": [
    "import statistics as stat\n",
    "import matplotlib.pyplot as plt\n",
    "\n",
    "def plot_signal(label, signal):\n",
    "    plt.figure(figsize=(20, 10))\n",
    "    plt.plot(signal)\n",
    "    plt.title(f\"{label} signal\")\n",
    "    plt.xlabel(\"time\")\n",
    "    plt.ylabel(\"amplitude\")\n",
    "    # plt.ylim(-300, 300)\n",
    "    plt.show()\n",
    "\n",
    "def thresholding(signal, threshold, replace_with):\n",
    "    mean = signal.mean()\n",
    "    std = stat.stdev(signal)\n",
    "    lower_limit = mean - threshold * std\n",
    "    upper_limit = mean + threshold * std\n",
    "    filtered_signal = np.where((signal >= lower_limit) & (signal <= upper_limit), signal, replace_with)\n",
    "    return filtered_signal\n",
    "\n",
    "def resample_signal(signal, num_samples):\n",
    "    original_indices = np.linspace(0, len(signal) - 1, num=len(signal))\n",
    "    resampled_indices = np.linspace(0, len(signal) - 1, num=num_samples)\n",
    "    resampled_signal = np.interp(resampled_indices, original_indices, signal)\n",
    "    return resampled_signal"
   ]
  },
  {
   "cell_type": "code",
   "execution_count": 3,
   "metadata": {},
   "outputs": [],
   "source": [
    "normal_denoised_signals = []\n",
    "\n",
    "plt.rcParams['agg.path.chunksize'] = 10000  # Increase the chunksize\n",
    "plt.rcParams['path.simplify_threshold'] = 1.0  # Increase the simplification threshold\n",
    "\n",
    "\n",
    "for i in range(32):\n",
    "    combined = combined_signal(edf_files_normal, i)\n",
    "    if i in [23, 37]:\n",
    "        threholded_signal = thresholding(combined, 2, 0)\n",
    "    threholded_signal = thresholding(combined, 2, combined.mean())\n",
    "    normal_denoised_signals.append(threholded_signal)"
   ]
  },
  {
   "cell_type": "code",
   "execution_count": 5,
   "metadata": {},
   "outputs": [],
   "source": [
    "mild_denoised_signals = []\n",
    "\n",
    "plt.rcParams['agg.path.chunksize'] = 10000  # Increase the chunksize\n",
    "plt.rcParams['path.simplify_threshold'] = 1.0  # Increase the simplification threshold\n",
    "\n",
    "\n",
    "for i in range(32):\n",
    "    combined = combined_signal(edf_files_mild, i)\n",
    "    threholded_signal = thresholding(combined, 2, combined.mean())\n",
    "    mild_denoised_signals.append(threholded_signal)"
   ]
  },
  {
   "cell_type": "code",
   "execution_count": 6,
   "metadata": {},
   "outputs": [],
   "source": [
    "moderate_denoised_signals = []\n",
    "\n",
    "plt.rcParams['agg.path.chunksize'] = 10000  # Increase the chunksize\n",
    "plt.rcParams['path.simplify_threshold'] = 1.0  # Increase the simplification threshold\n",
    "\n",
    "\n",
    "for i in range(32):\n",
    "    combined = combined_signal(edf_files_moderate, i)\n",
    "    threholded_signal = thresholding(combined, 2, combined.mean())\n",
    "    moderate_denoised_signals.append(threholded_signal)"
   ]
  },
  {
   "cell_type": "code",
   "execution_count": 7,
   "metadata": {},
   "outputs": [],
   "source": [
    "severe_denoised_signals = []\n",
    "\n",
    "plt.rcParams['agg.path.chunksize'] = 10000  # Increase the chunksize\n",
    "plt.rcParams['path.simplify_threshold'] = 1.0  # Increase the simplification threshold\n",
    "\n",
    "\n",
    "for i in range(32):\n",
    "    combined = combined_signal(edf_files_severe, i)\n",
    "    threholded_signal = thresholding(combined, 2, combined.mean())\n",
    "    severe_denoised_signals.append(threholded_signal)"
   ]
  },
  {
   "cell_type": "code",
   "execution_count": 9,
   "metadata": {},
   "outputs": [
    {
     "name": "stdout",
     "output_type": "stream",
     "text": [
      "{'EEG F3-A2': [-74.89510973629027, -5.284112001022568, -5.039494402941569, -4.974676244326029], 'EEG F4-A1': [-12.853147539070681, -13.263800650153128, -13.242044837311461, -13.147398288211452], 'EEG A1-A2': [-0.0789429482868378, -0.014422722201807937, 0.08208146038010912, 0.03480409161074219], 'EEG C3-A2': [-5.975858945636454, -6.412456921437542, -6.47873876115624, -6.240175501830123], 'EEG C4-A1': [8.476132988218744, 8.059291188767139, 8.17563135690821, 8.144614960277872], 'EEG O1-A2': [306.3916915133391, 311.13138863363736, 306.6790112189295, 311.2575607168026], 'EEG O2-A1': [307.28452879448116, 312.0213286286385, 308.9277227209093, 311.9231395997381], 'EOG LOC-A2': [14.762870548774272, 15.334406642229176, 14.87182611295218, 16.189095924923112], 'EOG ROC-A2': [-5.33294704934129, -5.470606805025737, -5.439324342689634, -5.451473508938971], 'EMG Chin': [-0.19287097894201932, -0.11146117838165136, -0.07696956646879652, -0.15936179288445174], 'Leg 1': [-0.10701851440034299, -0.08464456238871237, -0.08957520295272187, -0.10959454650087326], 'Leg 2': [-0.12972175399948926, -0.11251611295017507, -0.11952373988592768, -0.12961648444140317], 'ECG I': [-60.680627098028886, -49.11613736508072, -40.39419235500354, -45.91930538056411], 'RR': [195.5792853670969, 196.86358475276393, 197.27123989765195, 197.16458039351852], 'ECG II': [-54.43595575266695, -13.368512701966536, -48.65962987326938, -39.81773895459476], 'Snore': [-0.019789696950957003, -0.007415824313564777, -0.01973316643974455, -0.006904032255596175], 'Flow patient 1': [-0.08926775713115778, -0.31087169954768307, -0.18367624927788317, 0.048833000028693826], 'Flow patient 2': [-0.534850867206471, 1.4361014067550888, -0.6531419185860814, 12.132769672330669], 'Effort THO': [-0.06525567915075636, -0.004008167707211144, -0.01139124821084147, -0.05096304644711321], 'Effort ABD': [-0.05312088413552423, -0.23180331088862655, -0.19314105263739512, -0.04092428642528488], 'SpO2': [95.43906373970685, 94.06286197427536, 95.6158246935275, 91.89836708711263], 'Pleth': [-0.037131465367725096, -1.5296148000545498, -1.1869601306448618, -1.3735489493270978], 'Flow patient 3': [-0.0005774445984692847, -0.05638374592837028, -0.2890289069613049, -0.3681797219454382], 'xPAP CPAP': [0.0, 2.188160866996687, 4.441640378548896, 11.382710317460319], 'xPAP IPAP': [0.0, 2.188160866996687, 4.441640378548896, 11.382710317460319], 'xPAP EPAP': [0.0, 2.188160866996687, 4.441640378548896, 7.8363611111111116], 'Leak Total': [-0.0005774445984692847, 10.804587523192568, 20.61778552936426, 41.625512135317095], 'PulseRate': [76.66776558911221, 70.25211403859726, 65.99211531031995, 67.2670118606702], 'ECG IIHF': [-54.32711726390938, -12.306777835579902, -46.87232617427228, -38.883214665897974], 'Technical': [30489.260540073625, 30795.589033578923, 30803.963331767234, 30812.591493849206]}\n"
     ]
    }
   ],
   "source": [
    "means_dict = {}\n",
    "\n",
    "for i in range(32):\n",
    "    if i in [22, 29, 37]:\n",
    "        continue \n",
    "    means_dict[labels[i]] = []\n",
    "    m1 = normal_denoised_signals[i].mean()\n",
    "    m2 = mild_denoised_signals[i].mean()\n",
    "    m3 = moderate_denoised_signals[i].mean()\n",
    "    m4 = severe_denoised_signals[i].mean()\n",
    "    means_dict[labels[i]].append(m1)\n",
    "    means_dict[labels[i]].append(m2)\n",
    "    means_dict[labels[i]].append(m3)\n",
    "    means_dict[labels[i]].append(m4)\n",
    "\n",
    "print(means_dict)"
   ]
  },
  {
   "cell_type": "code",
   "execution_count": 10,
   "metadata": {},
   "outputs": [
    {
     "name": "stdout",
     "output_type": "stream",
     "text": [
      "['EEG F3-A2', 'Leak Total', 'Flow patient 2', 'ECG IIHF', 'ECG II']\n",
      "EEG F3-A2: 54.011808856016366\n",
      "Leak Total: 17.167653665619635\n",
      "Flow patient 2: 12.02473766560137\n",
      "ECG IIHF: 8.803556422717417\n",
      "ECG II: 8.439446549739225\n",
      "xPAP CPAP: 5.401406161218076\n",
      "xPAP IPAP: 5.401406161218076\n",
      "xPAP EPAP: 3.09755584884555\n",
      "ECG I: 1.4957442814538235\n",
      "EEG A1-A2: 0.8078498027638706\n",
      "Technical: 0.8078333410551802\n",
      "Pleth: 0.4451875684473358\n",
      "PulseRate: 0.3238263671229323\n",
      "Flow patient 3: 0.176921215154785\n",
      "Flow patient 1: 0.17241666021822913\n",
      "Effort ABD: 0.07243648340683782\n",
      "SpO2: 0.03127888460418515\n",
      "EOG LOC-A2: 0.027536879665679824\n",
      "Effort THO: 0.027053291022882443\n",
      "EEG O1-A2: 0.023480239090483808\n",
      "EMG Chin: 0.019393564115421442\n",
      "EEG O2-A1: 0.01752644887240493\n",
      "EEG C3-A2: 0.00802366142603763\n",
      "EEG C4-A1: 0.004014930661443308\n",
      "Snore: 0.003935671693029385\n",
      "RR: 0.003089613345273817\n",
      "EEG F4-A1: 0.0027262800670674824\n",
      "Leg 1: 0.0015855763207000488\n",
      "EOG ROC-A2: 0.0007038258441686124\n",
      "Leg 2: 0.000572157981468642\n"
     ]
    }
   ],
   "source": [
    "cv_dict = {}\n",
    "\n",
    "for channel, mean_vals in means_dict.items():\n",
    "    var = stat.variance(mean_vals)\n",
    "    mean = abs((mean_vals[0]+mean_vals[1]+mean_vals[2]+mean_vals[3])*0.25)\n",
    "    cv = var / mean\n",
    "    cv_dict[channel] = cv\n",
    "\n",
    "sorted_channels = sorted(cv_dict, key=cv_dict.get, reverse=True)\n",
    "\n",
    "top_5 = sorted_channels[:5]\n",
    "print(top_5)\n",
    "for channel in sorted_channels:\n",
    "    print(f\"{channel}: {cv_dict[channel]}\")"
   ]
  },
  {
   "cell_type": "code",
   "execution_count": 11,
   "metadata": {},
   "outputs": [
    {
     "name": "stdout",
     "output_type": "stream",
     "text": [
      "{'EEG F3-A2': 54.011808856016366, 'EEG F4-A1': 0.0027262800670674824, 'EEG A1-A2': 0.8078498027638706, 'EEG C3-A2': 0.00802366142603763, 'EEG C4-A1': 0.004014930661443308, 'EEG O1-A2': 0.023480239090483808, 'EEG O2-A1': 0.01752644887240493, 'EOG LOC-A2': 0.027536879665679824, 'EOG ROC-A2': 0.0007038258441686124, 'EMG Chin': 0.019393564115421442, 'Leg 1': 0.0015855763207000488, 'Leg 2': 0.000572157981468642, 'ECG I': 1.4957442814538235, 'RR': 0.003089613345273817, 'ECG II': 8.439446549739225, 'Snore': 0.003935671693029385, 'Flow patient 1': 0.17241666021822913, 'Flow patient 2': 12.02473766560137, 'Effort THO': 0.027053291022882443, 'Effort ABD': 0.07243648340683782, 'SpO2': 0.03127888460418515, 'Pleth': 0.4451875684473358, 'Flow patient 3': 0.176921215154785, 'xPAP CPAP': 5.401406161218076, 'xPAP IPAP': 5.401406161218076, 'xPAP EPAP': 3.09755584884555, 'Leak Total': 17.167653665619635, 'PulseRate': 0.3238263671229323, 'ECG IIHF': 8.803556422717417, 'Technical': 0.8078333410551802}\n"
     ]
    }
   ],
   "source": [
    "print(cv_dict)"
   ]
  },
  {
   "cell_type": "code",
   "execution_count": null,
   "metadata": {},
   "outputs": [],
   "source": []
  }
 ],
 "metadata": {
  "kernelspec": {
   "display_name": "Python 3",
   "language": "python",
   "name": "python3"
  },
  "language_info": {
   "codemirror_mode": {
    "name": "ipython",
    "version": 3
   },
   "file_extension": ".py",
   "mimetype": "text/x-python",
   "name": "python",
   "nbconvert_exporter": "python",
   "pygments_lexer": "ipython3",
   "version": "3.11.4"
  }
 },
 "nbformat": 4,
 "nbformat_minor": 2
}
