{
 "cells": [
  {
   "cell_type": "code",
   "execution_count": 2,
   "metadata": {},
   "outputs": [
    {
     "name": "stdout",
     "output_type": "stream",
     "text": [
      "['EEG F3-A2', 'EEG F4-A1', 'EEG A1-A2', 'EEG C3-A2', 'EEG C4-A1', 'EEG O1-A2', 'EEG O2-A1', 'EOG LOC-A2', 'EOG ROC-A2', 'EMG Chin', 'Leg 1', 'Leg 2', 'ECG I', 'RR', 'ECG II', 'Snore', 'Flow Patient', 'Flow Patient', 'Effort THO', 'Effort ABD', 'SpO2', 'Pleth', 'Body', 'Flow Patient', 'xPAP CPAP', 'xPAP IPAP', 'xPAP EPAP', 'Leak Total', 'PulseRate', 'PressCheck', 'ECG IIHF', 'Technical']\n"
     ]
    }
   ],
   "source": [
    "from pyedflib import highlevel\n",
    "import pyedflib as plib\n",
    "import numpy as np\n",
    "import matplotlib.pyplot as plt\n",
    "import statistics as stat\n",
    "\n",
    "def read_file_signal(file_path, index):\n",
    "    f = plib.EdfReader(file_path)\n",
    "    signal = f.readSignal(index)\n",
    "    f.close()\n",
    "    return signal\n",
    "\n",
    "def signal_labels(file_path):\n",
    "    f = plib.EdfReader(file_path)\n",
    "    labels = f.getSignalLabels()\n",
    "    f.close()\n",
    "    return labels\n",
    "\n",
    "def combined_signal(file_list, index):\n",
    "    combined_signals = []\n",
    "    for file in file_list:\n",
    "        temp = read_file_signal(file, index)\n",
    "        combined_signals.append(temp)\n",
    "    return np.concatenate(combined_signals)\n",
    "\n",
    "edf_files_severe = [\n",
    "    \"c:\\\\Users\\\\anany\\\\Downloads\\\\00000066-297469[001].edf\",\n",
    "    \"c:\\\\Users\\\\anany\\\\Downloads\\\\00000066-297469[002].edf\",\n",
    "    \"c:\\\\Users\\\\anany\\\\Downloads\\\\00000066-297469[003].edf\",\n",
    "    \"c:\\\\Users\\\\anany\\\\Downloads\\\\00000066-297469[004].edf\",\n",
    "    \"c:\\\\Users\\\\anany\\\\Downloads\\\\00000066-297469[005].edf\",\n",
    "    \"c:\\\\Users\\\\anany\\\\Downloads\\\\00000066-297469[006].edf\",\n",
    "    \"c:\\\\Users\\\\anany\\\\Downloads\\\\00000066-297469[007].edf\"\n",
    "]\n",
    "\n",
    "edf_files_normal = [\n",
    "    \"C:\\\\Users\\\\anany\\\\Downloads\\\\00000064-297469[001].edf\",\n",
    "    \"C:\\\\Users\\\\anany\\\\Downloads\\\\00000064-297469[002].edf\",\n",
    "    \"C:\\\\Users\\\\anany\\\\Downloads\\\\00000064-297469[003].edf\",\n",
    "    \"C:\\\\Users\\\\anany\\\\Downloads\\\\00000064-297469[004].edf\",\n",
    "    \"C:\\\\Users\\\\anany\\\\Downloads\\\\00000064-297469[005].edf\",\n",
    "    \"C:\\\\Users\\\\anany\\\\Downloads\\\\00000064-297469[006].edf\",\n",
    "    \"C:\\\\Users\\\\anany\\\\Downloads\\\\00000064-297469[007].edf\",\n",
    "    \"C:\\\\Users\\\\anany\\\\Downloads\\\\00000064-297469[008].edf\",\n",
    "    \"C:\\\\Users\\\\anany\\\\Downloads\\\\00000064-297469[009].edf\"\n",
    "]\n",
    "\n",
    "edf_files_moderate = [\n",
    "    \"C:\\\\Users\\\\anany\\\\Downloads\\\\00000074-297469[001].edf\",\n",
    "    \"C:\\\\Users\\\\anany\\\\Downloads\\\\00000074-297469[002].edf\",\n",
    "    \"C:\\\\Users\\\\anany\\\\Downloads\\\\00000074-297469[003].edf\",\n",
    "    \"C:\\\\Users\\\\anany\\\\Downloads\\\\00000074-297469[004].edf\",\n",
    "    \"C:\\\\Users\\\\anany\\\\Downloads\\\\00000074-297469[005].edf\",\n",
    "    \"C:\\\\Users\\\\anany\\\\Downloads\\\\00000074-297469[006].edf\",\n",
    "    \"C:\\\\Users\\\\anany\\\\Downloads\\\\00000074-297469[007].edf\",\n",
    "    \"C:\\\\Users\\\\anany\\\\Downloads\\\\00000074-297469[008].edf\",\n",
    "    \"C:\\\\Users\\\\anany\\\\Downloads\\\\00000074-297469[009].edf\"\n",
    "]\n",
    "\n",
    "edf_files_mild = [\n",
    "    \"C:\\\\Users\\\\anany\\\\Downloads\\\\00000067-297469[001].edf\",\n",
    "    \"C:\\\\Users\\\\anany\\\\Downloads\\\\00000067-297469[002].edf\",\n",
    "    \"C:\\\\Users\\\\anany\\\\Downloads\\\\00000067-297469[003].edf\",\n",
    "    \"C:\\\\Users\\\\anany\\\\Downloads\\\\00000067-297469[004].edf\",\n",
    "    \"C:\\\\Users\\\\anany\\\\Downloads\\\\00000067-297469[005].edf\",\n",
    "    \"C:\\\\Users\\\\anany\\\\Downloads\\\\00000067-297469[006].edf\",\n",
    "    \"C:\\\\Users\\\\anany\\\\Downloads\\\\00000067-297469[007].edf\",\n",
    "    \"C:\\\\Users\\\\anany\\\\Downloads\\\\00000067-297469[008].edf\",\n",
    "    \"C:\\\\Users\\\\anany\\\\Downloads\\\\00000067-297469[009].edf\",\n",
    "    \"C:\\\\Users\\\\anany\\\\Downloads\\\\00000067-297469[010].edf\",\n",
    "    \"C:\\\\Users\\\\anany\\\\Downloads\\\\00000067-297469[011].edf\",\n",
    "]\n",
    "\n",
    "labels = signal_labels(edf_files_normal[0])\n",
    "print(labels)\n",
    "labels[16] = \"Flow patient 1\"\n",
    "labels[17] = \"Flow patient 2\"\n",
    "labels[23] = \"Flow patient 3\"\n",
    "cv_dict = {}"
   ]
  },
  {
   "cell_type": "code",
   "execution_count": 15,
   "metadata": {},
   "outputs": [],
   "source": [
    "def plot_signal(label, signal):\n",
    "    plt.figure(figsize=(20, 10))\n",
    "    plt.plot(signal)\n",
    "    plt.title(f\"{label} signal\")\n",
    "    plt.xlabel(\"time\")\n",
    "    plt.ylabel(\"amplitude\")\n",
    "    # plt.ylim(-300, 300)\n",
    "    plt.show()\n",
    "\n",
    "def thresholding(signal, threshold):\n",
    "    mean = signal.mean()\n",
    "    std = np.std(signal)\n",
    "    lower_limit = mean - threshold * std\n",
    "    upper_limit = mean + threshold * std\n",
    "    filtered_signal = np.where((signal >= lower_limit) & (signal <= upper_limit), signal, mean)\n",
    "    return filtered_signal\n",
    "\n",
    "def resample_signal(signal, num_samples):\n",
    "    original_indices = np.linspace(0, len(signal) - 1, num=len(signal))\n",
    "    resampled_indices = np.linspace(0, len(signal) - 1, num=num_samples)\n",
    "    resampled_signal = np.interp(resampled_indices, original_indices, signal)\n",
    "    return resampled_signal"
   ]
  },
  {
   "cell_type": "code",
   "execution_count": 33,
   "metadata": {},
   "outputs": [],
   "source": [
    "def count_spo2_drops(spo2_data, timestamps, drop=0.03, duration=10):\n",
    "    mean_spo2 = np.mean(spo2_data)  \n",
    "    drop_start = None\n",
    "    count = 0\n",
    "\n",
    "    for i in range(1, len(spo2_data)):\n",
    "        if (mean_spo2 - spo2_data[i])/mean_spo2 >= drop:\n",
    "            if drop_start is None:\n",
    "                drop_start = timestamps[i]  # Start timing the drop\n",
    "        else:\n",
    "            if drop_start is not None and (timestamps[i - 1] - drop_start) >= duration:\n",
    "                count += 1  # Count the drop\n",
    "            drop_start = None  # Reset the drop\n",
    "\n",
    "    if drop_start is not None and (timestamps[-1] - drop_start) >= duration:\n",
    "        count += 1\n",
    "\n",
    "    return count"
   ]
  },
  {
   "cell_type": "code",
   "execution_count": 5,
   "metadata": {},
   "outputs": [
    {
     "name": "stdout",
     "output_type": "stream",
     "text": [
      "SpO2 index:  20\n",
      "Pulse index:  28\n",
      "Flow patient 1 index:  16\n",
      "Flow patient 2 index:  17\n"
     ]
    }
   ],
   "source": [
    "spo2_index = labels.index(\"SpO2\")\n",
    "pulse_index = labels.index(\"PulseRate\")\n",
    "npt_index = labels.index(\"Flow patient 1\")\n",
    "therm_index = labels.index(\"Flow patient 2\")    \n",
    "\n",
    "print(\"SpO2 index: \", spo2_index)\n",
    "print(\"Pulse index: \", pulse_index)\n",
    "print(\"Flow patient 1 index: \", npt_index)\n",
    "print(\"Flow patient 2 index: \", therm_index)"
   ]
  },
  {
   "cell_type": "markdown",
   "metadata": {},
   "source": [
    "# NORMAL SPO2"
   ]
  },
  {
   "cell_type": "code",
   "execution_count": 12,
   "metadata": {},
   "outputs": [],
   "source": [
    "def count_spo2_drops(spo2_data, timestamps, drop=0.03, duration=10):\n",
    "    mean_spo2 = np.mean(spo2_data)  \n",
    "    drop_start = None\n",
    "    count = 0\n",
    "\n",
    "    for i in range(1, len(spo2_data)):\n",
    "        if (mean_spo2 - spo2_data[i])/mean_spo2 >= drop:\n",
    "            if drop_start is None:\n",
    "                drop_start = timestamps[i]  # Start timing the drop\n",
    "        else:\n",
    "            if drop_start is not None and (timestamps[i - 1] - drop_start) >= duration:\n",
    "                count += 1  # Count the drop\n",
    "            drop_start = None  # Reset the drop\n",
    "\n",
    "    if drop_start is not None and (timestamps[-1] - drop_start) >= duration:\n",
    "        count += 1\n",
    "\n",
    "    return count\n"
   ]
  },
  {
   "cell_type": "code",
   "execution_count": 47,
   "metadata": {},
   "outputs": [
    {
     "name": "stdout",
     "output_type": "stream",
     "text": [
      "Number of SpO2 drops in hour 1: 0\n",
      "Number of SpO2 drops in hour 2: 0\n",
      "Number of SpO2 drops in hour 3: 0\n",
      "Number of SpO2 drops in hour 4: 0\n",
      "Number of SpO2 drops in hour 5: 0\n",
      "Number of SpO2 drops in hour 6: 0\n",
      "Number of SpO2 drops in hour 7: 1\n",
      "Number of SpO2 drops in hour 8: 0\n",
      "Number of SpO2 drops in hour 9: 0\n"
     ]
    }
   ],
   "source": [
    "for j in range(9):\n",
    "    spo2_data = read_file_signal(edf_files_normal[j], spo2_index)\n",
    "    spo2_denoised = thresholding(spo2_data, 2)\n",
    "    timestamps = np.linspace(0, 3600, len(spo2_denoised))\n",
    "    # print(len(spo2_denoised))\n",
    "    count = count_spo2_drops(spo2_denoised, timestamps, 0.03, 10)\n",
    "    print(f\"Number of SpO2 drops in hour {j + 1}: {count}\")\n"
   ]
  },
  {
   "cell_type": "code",
   "execution_count": 51,
   "metadata": {},
   "outputs": [
    {
     "name": "stdout",
     "output_type": "stream",
     "text": [
      "Number of SpO2 drops in overall in normal: 2\n"
     ]
    }
   ],
   "source": [
    "combined_spo2 = combined_signal(edf_files_normal, spo2_index)\n",
    "combined_spo2_denoised = thresholding(combined_spo2, 2)\n",
    "mean = np.mean(combined_spo2_denoised)\n",
    "timestamps = np.linspace(0, 32400, len(combined_spo2_denoised))\n",
    "count = count_spo2_drops(combined_spo2_denoised, timestamps, 0.03, 10)\n",
    "print(f\"Number of SpO2 drops in overall in normal: {count}\")"
   ]
  },
  {
   "cell_type": "code",
   "execution_count": 24,
   "metadata": {},
   "outputs": [
    {
     "name": "stdout",
     "output_type": "stream",
     "text": [
      "Number of SpO2 drops in hour 1: 2\n",
      "Number of SpO2 drops in hour 2: 0\n",
      "Number of SpO2 drops in hour 3: 0\n",
      "Number of SpO2 drops in hour 4: 0\n",
      "Number of SpO2 drops in hour 5: 0\n",
      "Number of SpO2 drops in hour 6: 0\n",
      "Number of SpO2 drops in hour 7: 0\n",
      "Number of SpO2 drops in hour 8: 0\n",
      "Number of SpO2 drops in hour 9: 0\n",
      "Number of SpO2 drops in hour 10: 0\n",
      "Number of SpO2 drops in hour 11: 0\n"
     ]
    }
   ],
   "source": [
    "for j in range(11):\n",
    "    spo2_data = read_file_signal(edf_files_mild[j], spo2_index)\n",
    "    spo2_denoised = thresholding(spo2_data, 2)\n",
    "    timestamps = np.linspace(0, 3600, len(spo2_denoised))\n",
    "    # print(len(spo2_denoised))\n",
    "    count = count_spo2_drops(spo2_denoised, timestamps, 0.03, 10)\n",
    "    print(f\"Number of SpO2 drops in hour {j + 1}: {count}\")"
   ]
  },
  {
   "cell_type": "code",
   "execution_count": 44,
   "metadata": {},
   "outputs": [
    {
     "name": "stdout",
     "output_type": "stream",
     "text": [
      "Number of SpO2 drops in 7 hours: 23\n"
     ]
    }
   ],
   "source": [
    "combined_spo2 = combined_signal(edf_files_mild, spo2_index)\n",
    "combined_spo2_denoised = thresholding(combined_spo2, 2)\n",
    "mean = np.mean(combined_spo2_denoised)\n",
    "timestamps = np.linspace(0, 39600, len(combined_spo2_denoised))\n",
    "count = count_spo2_drops(combined_spo2_denoised, timestamps, 0.03, 10)\n",
    "print(f\"Number of SpO2 drops in 7 hours: {count}\")"
   ]
  },
  {
   "cell_type": "code",
   "execution_count": 34,
   "metadata": {},
   "outputs": [
    {
     "name": "stdout",
     "output_type": "stream",
     "text": [
      "Number of SpO2 drops in hour 1: 1\n",
      "Number of SpO2 drops in hour 2: 0\n",
      "Number of SpO2 drops in hour 3: 6\n",
      "Number of SpO2 drops in hour 4: 0\n",
      "Number of SpO2 drops in hour 5: 0\n",
      "Number of SpO2 drops in hour 6: 0\n",
      "Number of SpO2 drops in hour 7: 0\n",
      "Number of SpO2 drops in hour 8: 0\n",
      "Number of SpO2 drops in hour 9: 0\n"
     ]
    }
   ],
   "source": [
    "for j in range(9):\n",
    "    spo2_data = read_file_signal(edf_files_moderate[j], spo2_index)\n",
    "    spo2_denoised = thresholding(spo2_data, 2)\n",
    "    timestamps = np.linspace(0, 3600, len(spo2_denoised))\n",
    "    # print(len(spo2_denoised))\n",
    "    count = count_spo2_drops(spo2_denoised, timestamps, 0.03, 10)\n",
    "    print(f\"Number of SpO2 drops in hour {j + 1}: {count}\")"
   ]
  },
  {
   "cell_type": "code",
   "execution_count": 45,
   "metadata": {},
   "outputs": [
    {
     "name": "stdout",
     "output_type": "stream",
     "text": [
      "Number of SpO2 drops in 7 hours: 31\n"
     ]
    }
   ],
   "source": [
    "combined_spo2 = combined_signal(edf_files_moderate, spo2_index)\n",
    "combined_spo2_denoised = thresholding(combined_spo2, 2)\n",
    "mean = np.mean(combined_spo2_denoised)\n",
    "timestamps = np.linspace(0, 32400, len(combined_spo2_denoised))\n",
    "count = count_spo2_drops(combined_spo2_denoised, timestamps, 0.03, 10)\n",
    "print(f\"Number of SpO2 drops in 7 hours: {count}\")"
   ]
  },
  {
   "cell_type": "code",
   "execution_count": 49,
   "metadata": {},
   "outputs": [
    {
     "name": "stdout",
     "output_type": "stream",
     "text": [
      "Number of SpO2 drops in hour 1: 29\n",
      "Number of SpO2 drops in hour 2: 42\n",
      "Number of SpO2 drops in hour 3: 43\n",
      "Number of SpO2 drops in hour 4: 37\n",
      "Number of SpO2 drops in hour 5: 0\n",
      "Number of SpO2 drops in hour 6: 0\n",
      "Number of SpO2 drops in hour 7: 8\n"
     ]
    }
   ],
   "source": [
    "for j in range(7):\n",
    "    spo2_data = read_file_signal(edf_files_severe[j], spo2_index)\n",
    "    spo2_denoised = thresholding(spo2_data, 2)\n",
    "    timestamps = np.linspace(0, 3600, len(spo2_denoised))\n",
    "    # print(len(spo2_denoised))\n",
    "    count = count_spo2_drops(spo2_denoised, timestamps, 0.03, 10)\n",
    "    print(f\"Number of SpO2 drops in hour {j + 1}: {count}\")"
   ]
  },
  {
   "cell_type": "code",
   "execution_count": 50,
   "metadata": {},
   "outputs": [
    {
     "name": "stdout",
     "output_type": "stream",
     "text": [
      "Number of SpO2 drops in 7 hours: 196\n"
     ]
    }
   ],
   "source": [
    "combined_spo2 = combined_signal(edf_files_severe, spo2_index)\n",
    "combined_spo2_denoised = thresholding(combined_spo2, 2)\n",
    "mean = np.mean(combined_spo2_denoised)\n",
    "timestamps = np.linspace(0, 25200, len(combined_spo2_denoised))\n",
    "count = count_spo2_drops(combined_spo2_denoised, timestamps, 0.03, 10)\n",
    "print(f\"Number of SpO2 drops in 7 hours: {count}\")"
   ]
  },
  {
   "cell_type": "markdown",
   "metadata": {},
   "source": [
    "# THERMISTOR"
   ]
  },
  {
   "cell_type": "code",
   "execution_count": 144,
   "metadata": {},
   "outputs": [],
   "source": [
    "def count_ob_apnea(fp2_signal, timestamps):\n",
    "    mean_fp2 = np.mean(fp2_signal)\n",
    "    count = 0\n",
    "    apnea_start = None\n",
    "    time_drops = []\n",
    "    for i in range(1, len(fp2_signal)):\n",
    "        if (mean_fp2 - fp2_signal[i])/mean_fp2 >= 0.9:\n",
    "            if apnea_start is None:\n",
    "                apnea_start = timestamps[i]\n",
    "        else:\n",
    "            if apnea_start is not None and (timestamps[i - 1] - apnea_start) >= 1000:\n",
    "                count += 1  # Count the drop\n",
    "                time_drops.append((apnea_start, i))\n",
    "            apnea_start = None  # Reset the drop\n",
    "\n",
    "    if apnea_start is not None and (timestamps[-1] - apnea_start) >= 1000:\n",
    "        count += 1\n",
    "        time_drops.append((apnea_start, timestamps[-1]))\n",
    "\n",
    "    return count, time_drops\n"
   ]
  },
  {
   "cell_type": "code",
   "execution_count": 145,
   "metadata": {},
   "outputs": [
    {
     "name": "stdout",
     "output_type": "stream",
     "text": [
      "Number of fp2 drops in hour 1: 0\n",
      "Time of drops: []\n",
      "Number of fp2 drops in hour 2: 0\n",
      "Time of drops: []\n",
      "Number of fp2 drops in hour 3: 0\n",
      "Time of drops: []\n",
      "Number of fp2 drops in hour 4: 0\n",
      "Time of drops: []\n",
      "Number of fp2 drops in hour 5: 0\n",
      "Time of drops: []\n",
      "Number of fp2 drops in hour 6: 0\n",
      "Time of drops: []\n",
      "Number of fp2 drops in hour 7: 0\n",
      "Time of drops: []\n",
      "Number of fp2 drops in hour 8: 0\n",
      "Time of drops: []\n",
      "Number of fp2 drops in hour 9: 3\n",
      "Time of drops: [(33814.916120461814, 21016), (134741.58091135108, 81799), (137984.58479974538, 83730)]\n"
     ]
    }
   ],
   "source": [
    "for j in range(9):\n",
    "    fp2_data = read_file_signal(edf_files_normal[j], therm_index)\n",
    "    fp2_denoised = thresholding(fp2_data, 2)\n",
    "    timestamps = np.linspace(0, 360000, len(fp2_denoised))\n",
    "    # print(len(fp2_denoised))\n",
    "    count, time_drops = count_ob_apnea(fp2_denoised, timestamps)\n",
    "    print(f\"Number of fp2 drops in hour {j + 1}: {count}\")\n",
    "    print(f\"Time of drops: {time_drops}\")"
   ]
  },
  {
   "cell_type": "code",
   "execution_count": 147,
   "metadata": {},
   "outputs": [
    {
     "name": "stdout",
     "output_type": "stream",
     "text": [
      "Number of fp2 drops in hour 1: 0\n",
      "Time of drops: []\n",
      "Number of fp2 drops in hour 2: 0\n",
      "Time of drops: []\n",
      "Number of fp2 drops in hour 3: 0\n",
      "Time of drops: []\n",
      "Number of fp2 drops in hour 4: 0\n",
      "Time of drops: []\n",
      "Number of fp2 drops in hour 5: 0\n",
      "Time of drops: []\n",
      "Number of fp2 drops in hour 6: 0\n",
      "Time of drops: []\n",
      "Number of fp2 drops in hour 7: 2\n",
      "Time of drops: [(286194.7949855416, 289869), (306681.851894033, 310715)]\n",
      "Number of fp2 drops in hour 8: 0\n",
      "Time of drops: []\n",
      "Number of fp2 drops in hour 9: 0\n",
      "Time of drops: []\n",
      "Number of fp2 drops in hour 10: 0\n",
      "Time of drops: []\n",
      "Number of fp2 drops in hour 11: 57\n",
      "Time of drops: [(119.76751012739975, 253), (3212.5873304761344, 672), (6023.601244642752, 1051), (15147.067457288793, 2297), (18916.22145247461, 2872), (21234.07503082252, 3222), (27208.3602418834, 4062), (38586.27370398638, 5690), (41207.06863148007, 6044), (44426.70110961075, 6512), (47597.017554159575, 6953), (50619.38589796278, 7343), (53599.48335583867, 7794), (59136.96941231727, 8589), (65329.65420066929, 9509), (68098.3972289086, 9829), (88789.99589033054, 12748), (106029.47220102155, 15193), (108044.38443022368, 15479), (112489.87260024658, 16118), (120140.90295309106, 17223), (126932.42529208008, 18175), (135957.25943756237, 19441), (141987.9058298597, 20303), (144023.95350202548, 20607), (146468.61973815534, 20959), (148927.3762695943, 21309), (151146.59778077848, 21601), (153570.1285739447, 21945), (163771.50237773734, 23394), (166004.8141842306, 23727), (168315.62261492398, 24071), (170950.50783772676, 24427), (173359.94833558387, 24798), (178749.48629131686, 25518), (183582.45758234017, 26208), (185914.40145599717, 26533), (196404.62631362648, 28040), (216370.5747666295, 30855), (218674.3380496683, 31190), (245671.3438619151, 35020), (250363.41219984734, 35724), (255245.69952445253, 36391), (296544.35507544177, 42237), (304153.11454235896, 43320), (310712.14700874774, 44260), (316031.23348793515, 45011), (321498.26806786825, 45800), (324006.34063288907, 46147), (326542.5937885282, 46493), (331544.6486232607, 47207), (337497.79839135794, 48053), (342119.4152527447, 48706), (344930.4291669113, 49104), (350017.0257734985, 49827), (356118.12364234135, 50726), (358774.1443081078, 51071)]\n"
     ]
    }
   ],
   "source": [
    "for j in range(11):\n",
    "    fp2_data = read_file_signal(edf_files_mild[j], therm_index)\n",
    "    fp2_denoised = thresholding(fp2_data, 2)\n",
    "    timestamps = np.linspace(0, 360000, len(fp2_denoised))\n",
    "    # print(len(fp2_denoised))\n",
    "    count, time_drops = count_ob_apnea(fp2_denoised, timestamps)\n",
    "    print(f\"Number of fp2 drops in hour {j + 1}: {count}\")\n",
    "    print(f\"Time of drops: {time_drops}\")"
   ]
  },
  {
   "cell_type": "code",
   "execution_count": 148,
   "metadata": {},
   "outputs": [
    {
     "name": "stdout",
     "output_type": "stream",
     "text": [
      "Number of fp2 drops in hour 1: 0\n",
      "Time of drops: []\n",
      "Number of fp2 drops in hour 2: 0\n",
      "Time of drops: []\n",
      "Number of fp2 drops in hour 3: 2\n",
      "Time of drops: [(144789.40219278386, 145818), (159292.4424790069, 161340)]\n",
      "Number of fp2 drops in hour 4: 4\n",
      "Time of drops: [(179180.49772360479, 181214), (184985.51384864957, 187275), (190476.52910146973, 192094), (242186.6727407576, 243313)]\n",
      "Number of fp2 drops in hour 5: 0\n",
      "Time of drops: []\n",
      "Number of fp2 drops in hour 6: 0\n",
      "Time of drops: []\n",
      "Number of fp2 drops in hour 7: 0\n",
      "Time of drops: []\n",
      "Number of fp2 drops in hour 8: 0\n",
      "Time of drops: []\n",
      "Number of fp2 drops in hour 9: 0\n",
      "Time of drops: []\n"
     ]
    }
   ],
   "source": [
    "for j in range(9):\n",
    "    fp2_data = read_file_signal(edf_files_moderate[j], therm_index)\n",
    "    fp2_denoised = thresholding(fp2_data, 2)\n",
    "    timestamps = np.linspace(0, 360000, len(fp2_denoised))\n",
    "    # print(len(fp2_denoised))\n",
    "    count, time_drops = count_ob_apnea(fp2_denoised, timestamps)\n",
    "    print(f\"Number of fp2 drops in hour {j + 1}: {count}\")\n",
    "    print(f\"Time of drops: {time_drops}\")"
   ]
  },
  {
   "cell_type": "code",
   "execution_count": 149,
   "metadata": {},
   "outputs": [
    {
     "name": "stdout",
     "output_type": "stream",
     "text": [
      "Number of fp2 drops in hour 1: 27\n",
      "Time of drops: [(139891.3885871905, 140991), (149562.41545115403, 150673), (160550.44597346103, 161859), (163518.45421792837, 164637), (172171.47825410627, 173252), (184506.51251809034, 186264), (187926.52201811672, 189969), (217620.60450167916, 219001), (230230.63952955426, 231410), (239534.6653740705, 240632), (242532.6737018714, 243617), (245997.68332689814, 248398), (271298.7536076489, 272534), (274350.76208545023, 275406), (280209.77836049546, 281693), (286858.7968299912, 288334), (290609.80724946456, 291725), (293790.81608560024, 295294), (296936.8248245134, 298732), (300352.83431342867, 302686), (309467.8596329434, 310481), (318270.88408578915, 319452), (323220.8978358273, 324526), (326681.9074497429, 327847), (330701.9186164406, 331959), (343401.9538943164, 345480), (351849.9773610482, 353092)]\n",
      "Number of fp2 drops in hour 2: 65\n",
      "Time of drops: [(4028.0111889199693, 5469), (7809.021691726922, 9233), (20908.058077939106, 22115), (26888.07468909636, 27960), (27961.077669660193, 29101), (31076.086322462008, 32332), (43006.11946144295, 44431), (49474.13742815952, 50869), (55119.15310875863, 56240), (57775.16048655691, 58853), (60542.168172689366, 62056), (64596.17943383176, 65876), (67310.18697274159, 69091), (76035.21120892002, 77167), (82553.22931452587, 83818), (87655.24348678747, 89535), (92173.25603682232, 94740), (96912.26920074777, 99122), (100684.27967855467, 102120), (103349.287081353, 105669), (107734.29926194239, 110465), (111807.3105758627, 113504), (121427.33729815917, 123731), (132219.3672760202, 133639), (138845.38568162688, 140278), (146600.4072233534, 148776), (161810.44947347077, 163575), (168236.46732352034, 170395), (172785.47995966655, 175173), (181749.50485973572, 183998), (186009.51669310193, 188435), (190134.5281514671, 193110), (195784.54384595514, 197601), (200555.55709876973, 202504), (205631.57119880887, 207068), (210059.58349884304, 211591), (215024.59729054803, 217685), (220212.61170169918, 223584), (226222.62839618998, 227756), (229534.63759621556, 231064), (236568.65713515872, 238073), (239442.6651185142, 241003), (244214.6783741066, 246411), (248507.6902991397, 250596), (254194.70609640583, 256180), (257747.7159658777, 259526), (261045.72512701424, 263237), (266797.7411048364, 268529), (272011.75558820996, 274580), (278088.7724688124, 280380), (285027.79174386594, 287444), (293702.8158411551, 294966), (297677.8268828525, 298879), (300239.8339995389, 301784), (309116.8586579407, 310639), (314972.87492465257, 316263), (318669.8851941255, 320532), (325125.9031275087, 326956), (329215.9144886514, 331336), (333079.9252220145, 334549), (336283.93412203924, 338603), (341072.947424854, 342287), (347422.96506379184, 350152), (352558.97933049814, 353925), (355263.9868444079, 356779)]\n",
      "Number of fp2 drops in hour 3: 3\n",
      "Time of drops: [(200422.55672932425, 202257), (297509.8264161845, 298548), (338312.939758166, 339565)]\n",
      "Number of fp2 drops in hour 4: 1\n",
      "Time of drops: [(9387.02607507243, 10681)]\n",
      "Number of fp2 drops in hour 5: 0\n",
      "Time of drops: []\n",
      "Number of fp2 drops in hour 6: 0\n",
      "Time of drops: []\n",
      "Number of fp2 drops in hour 7: 0\n",
      "Time of drops: []\n"
     ]
    }
   ],
   "source": [
    "for j in range(7):\n",
    "    fp2_data = read_file_signal(edf_files_severe[j], therm_index)\n",
    "    fp2_denoised = thresholding(fp2_data, 2)\n",
    "    timestamps = np.linspace(0, 360000, len(fp2_denoised))\n",
    "    # print(len(fp2_denoised))\n",
    "    count, time_drops = count_ob_apnea(fp2_denoised, timestamps)\n",
    "    print(f\"Number of fp2 drops in hour {j + 1}: {count}\")\n",
    "    print(f\"Time of drops: {time_drops}\")"
   ]
  },
  {
   "cell_type": "code",
   "execution_count": 150,
   "metadata": {},
   "outputs": [
    {
     "name": "stdout",
     "output_type": "stream",
     "text": [
      "Number of fp2 drops in 7 hours: 74\n",
      "Time of drops: [(109790.0435674776, 110883), (125218.04968970224, 126231), (151135.05997423013, 152201), (262570.10419448576, 263823), (285727.1133837751, 286916), (302615.1200853651, 303637), (332991.1321393381, 334358), (339815.1348472757, 341891), (356862.14161196095, 358293), (370773.1471322012, 371784), (399568.158558793, 401323), (429489.17043221043, 430922), (520648.20660643117, 521851), (564100.2238492952, 565321), (588432.2335048545, 589539), (630895.250355258, 632117), (677569.2688766939, 678803), (682194.2707120121, 683614), (750287.2977330546, 753603), (764494.3033707553, 765912), (774441.307317979, 775688), (780655.309783853, 781938), (796193.3159497285, 798777), (798786.3169786971, 800308), (813321.3227465566, 816894), (822561.3264132247, 823838), (831355.3299029086, 832521), (833667.3308203693, 835268), (839299.3330552909, 841770), (850520.3375080704, 851521), (860804.3415890244, 863088), (868694.3447199779, 872591), (876065.3476449791, 878387), (880154.3492675988, 881243), (883975.3507838693, 887788), (894457.3549433948, 896939), (900577.3573719672, 902845), (904587.3589632376, 907754), (910462.3612945877, 913330), (915504.3632953821, 918387), (920182.3651517321, 924968), (928600.3684922096, 930373), (933138.370293004, 934699), (937504.3720255444, 940026), (943046.3742247516, 944783), (949170.3766549113, 950222), (954682.3788422138, 956704), (964262.3826438026, 966389), (970146.3849787241, 971524), (985236.3909668217, 986681), (990833.3931878543, 992047), (1017508.403773176, 1018611), (1022084.4055890497, 1023223), (1023512.4061557166, 1024845), (1024861.4066910343, 1029135), (1029138.4083882571, 1030563), (1030806.4090501622, 1032145), (1032146.4095819085, 1034152), (1034986.4107088931, 1037946), (1042121.4135402434, 1043507), (1043521.4140957991, 1045032), (1046076.4151096884, 1047239), (1048722.416159689, 1050220), (1052812.4177827053, 1054131), (1054474.4184422295, 1056077), (1056594.4192834997, 1058115), (1058312.419965246, 1060078), (1063816.4221493737, 1065539), (1068875.4241569142, 1070776), (1072838.425729534, 1074368), (1078029.4277894553, 1079333), (1083633.4300132657, 1084816), (1087208.431431917, 1089060), (1089387.4322966, 1090682)]\n"
     ]
    }
   ],
   "source": [
    "combined_fp2 = combined_signal(edf_files_severe, therm_index)\n",
    "combined_fp2_denoised = thresholding(combined_fp2, 2)\n",
    "mean = np.mean(combined_fp2_denoised)\n",
    "timestamps = np.linspace(0, 2520000, len(combined_fp2_denoised))\n",
    "count, time_drops = count_ob_apnea(combined_fp2_denoised, timestamps)\n",
    "print(f\"Number of fp2 drops in 7 hours: {count}\")\n",
    "print(f\"Time of drops: {time_drops}\")"
   ]
  },
  {
   "cell_type": "code",
   "execution_count": 151,
   "metadata": {},
   "outputs": [
    {
     "name": "stdout",
     "output_type": "stream",
     "text": [
      "Number of fp2 drops in 9 hours: 0\n",
      "Time of drops: []\n"
     ]
    }
   ],
   "source": [
    "combined_fp2 = combined_signal(edf_files_normal, therm_index)\n",
    "combined_fp2_denoised = thresholding(combined_fp2, 2)\n",
    "mean = np.mean(combined_fp2_denoised)\n",
    "timestamps = np.linspace(0, 3240000, len(combined_fp2_denoised))\n",
    "count, time_drops = count_ob_apnea(combined_fp2_denoised, timestamps)\n",
    "print(f\"Number of fp2 drops in 9 hours: {count}\")\n",
    "print(f\"Time of drops: {time_drops}\")"
   ]
  },
  {
   "cell_type": "code",
   "execution_count": 152,
   "metadata": {},
   "outputs": [
    {
     "name": "stdout",
     "output_type": "stream",
     "text": [
      "Number of fp2 drops in 9 hours: 4\n",
      "Time of drops: [(956075.4131402823, 881329), (1369133.6898898215, 1261215), (1375445.592135577, 1267274), (1437642.5658240707, 1323206)]\n"
     ]
    }
   ],
   "source": [
    "combined_fp2 = combined_signal(edf_files_moderate, therm_index)\n",
    "combined_fp2_denoised = thresholding(combined_fp2, 2)\n",
    "mean = np.mean(combined_fp2_denoised)\n",
    "timestamps = np.linspace(0, 3240000, len(combined_fp2_denoised))\n",
    "count, time_drops = count_ob_apnea(combined_fp2_denoised, timestamps)\n",
    "print(f\"Number of fp2 drops in 9 hours: {count}\")\n",
    "print(f\"Time of drops: {time_drops}\")"
   ]
  },
  {
   "cell_type": "code",
   "execution_count": 153,
   "metadata": {},
   "outputs": [
    {
     "name": "stdout",
     "output_type": "stream",
     "text": [
      "Number of fp2 drops in 11 hours: 4\n",
      "Time of drops: [(1049.8975787838128, 7893), (2474188.8510829206, 2282123), (2653154.0886730268, 2449869), (2675374.390012432, 2470715)]\n"
     ]
    }
   ],
   "source": [
    "combined_fp2 = combined_signal(edf_files_mild, therm_index)\n",
    "combined_fp2_denoised = thresholding(combined_fp2, 2)\n",
    "mean = np.mean(combined_fp2_denoised)\n",
    "timestamps = np.linspace(0, 3960000, len(combined_fp2_denoised))\n",
    "count, time_drops = count_ob_apnea(combined_fp2_denoised, timestamps)\n",
    "print(f\"Number of fp2 drops in 11 hours: {count}\")\n",
    "print(f\"Time of drops: {time_drops}\")"
   ]
  },
  {
   "cell_type": "markdown",
   "metadata": {},
   "source": [
    "# PRESSURE TRANSDUCER + SPO2 DROP COUNT"
   ]
  },
  {
   "cell_type": "code",
   "execution_count": 154,
   "metadata": {},
   "outputs": [],
   "source": [
    "def count_ob_hypopnea(fp1_data, spo2_data, timestamps):\n",
    "    mean_fp1 = np.mean(fp1_data)  \n",
    "    mean_spo2 = np.mean(fp1_data)\n",
    "    drop_start = None\n",
    "    count = 0\n",
    "    time_drops = []\n",
    "\n",
    "    for i in range(1, min(len(fp1_data), len(spo2_data))):\n",
    "        if (mean_fp1 - fp1_data[i])/mean_fp1 >= 0.3 and (mean_spo2 - spo2_data[i])/mean_spo2 >= 0.03:\n",
    "            if drop_start is None:\n",
    "                drop_start = timestamps[i]  # Start timing the drop\n",
    "        else:\n",
    "            if drop_start is not None and (timestamps[i - 1] - drop_start) >= 10:\n",
    "                count += 1  # Count the drop\n",
    "                time_drops.append((drop_start, i))\n",
    "            drop_start = None  # Reset the drop\n",
    "\n",
    "    if drop_start is not None and (timestamps[-1] - drop_start) >= 10:\n",
    "        count += 1\n",
    "        time_drops.append((drop_start, timestamps[-1]))\n",
    "\n",
    "    return count, time_drops\n"
   ]
  },
  {
   "cell_type": "code",
   "execution_count": 155,
   "metadata": {},
   "outputs": [
    {
     "name": "stdout",
     "output_type": "stream",
     "text": [
      "Number of fp1 drops in hour 1: 25\n",
      "Time of drops: [(51.01417060294526, 63), (66.01833842734094, 77), (256.07113086968604, 271), (287.0797443734371, 305), (341.0947485412615, 355), (371.1030841900528, 388), (938.260627952209, 952), (998.2772992497917, 1020), (1606.4462350652962, 1623), (1845.512642400667, 1857), (1885.5237565990553, 1897), (2030.5640455682135, 2043), (2119.5887746596277, 2130), (2178.605168102251, 2189), (2222.617393720478, 2238), (2331.6476799110865, 2344), (2424.6735204223396, 2437), (2796.776882467352, 2809), (2862.795220894693, 2877), (2939.816615726591, 2951), (3009.8360655737706, 3024), (3142.873020283412, 3153), (3308.9191442067245, 3320), (3404.9458182828566, 3417), (3431.953320366769, 3442)]\n",
      "Number of fp1 drops in hour 2: 0\n",
      "Time of drops: []\n",
      "Number of fp1 drops in hour 3: 0\n",
      "Time of drops: []\n",
      "Number of fp1 drops in hour 4: 15\n",
      "Time of drops: [(239.06640733537097, 250), (401.11141983884414, 412), (1646.4573492636846, 1658), (1788.4968046679635, 1799), (1918.5329258127258, 1931), (2063.573214781884, 2078), (2278.632953598222, 2289), (2679.744373437066, 2691), (2898.805223673243, 2909), (2917.810502917477, 2930), (2970.825229230342, 2981), (3006.8352320088916, 3017), (3075.8544040011116, 3088), (3416.949152542373, 3429), (3447.957766046124, 3459)]\n",
      "Number of fp1 drops in hour 5: 14\n",
      "Time of drops: [(386.1072520144485, 399), (556.1544873575994, 567), (694.1928313420395, 706), (841.233676021117, 857), (972.2700750208392, 987), (1257.3492636843569, 1271), (1452.4034454015004, 1463), (1605.4459572103362, 1618), (1884.5234787440957, 1895), (2237.6215615448737, 2249), (2354.65407057516, 2365), (2723.7565990552935, 2735), (2909.8082800777997, 2923), (3217.8938594053907, 3228)]\n",
      "Number of fp1 drops in hour 6: 0\n",
      "Time of drops: []\n",
      "Number of fp1 drops in hour 7: 10\n",
      "Time of drops: [(328.0911364267852, 339), (369.1025284801334, 382), (1110.3084190052793, 1121), (1294.3595443178663, 1305), (1476.4101139205336, 1488), (1811.5031953320367, 1826), (2146.59627674354, 2157), (2477.6882467352043, 2489), (2775.7710475131985, 2788), (3222.895248680189, 3233)]\n"
     ]
    }
   ],
   "source": [
    "for j in range(7):\n",
    "    fp1_big = read_file_signal(edf_files_severe[j], npt_index)\n",
    "    fp1_small = resample_signal(fp1_big, 3600)\n",
    "    fp1_denoised = thresholding(fp1_small, 2)\n",
    "    spo2_data = read_file_signal(edf_files_severe[j], spo2_index)\n",
    "    spo2_denoised = thresholding(spo2_data, 2)\n",
    "    timestamps = np.linspace(0, 3600, len(fp1_denoised))\n",
    "    # print(len(fp1_denoised))\n",
    "    count, time_drops = count_ob_hypopnea(fp1_denoised, spo2_denoised, timestamps)\n",
    "    print(f\"Number of fp1 drops in hour {j + 1}: {count}\")\n",
    "    print(f\"Time of drops: {time_drops}\")"
   ]
  },
  {
   "cell_type": "code",
   "execution_count": 156,
   "metadata": {},
   "outputs": [
    {
     "name": "stdout",
     "output_type": "stream",
     "text": [
      "Number of fp1 drops in hour 1: 0\n",
      "Time of drops: []\n",
      "Number of fp1 drops in hour 2: 0\n",
      "Time of drops: []\n",
      "Number of fp1 drops in hour 3: 0\n",
      "Time of drops: []\n",
      "Number of fp1 drops in hour 4: 1\n",
      "Time of drops: [(1871.5198666296194, 1884)]\n",
      "Number of fp1 drops in hour 5: 0\n",
      "Time of drops: []\n",
      "Number of fp1 drops in hour 6: 0\n",
      "Time of drops: []\n",
      "Number of fp1 drops in hour 7: 0\n",
      "Time of drops: []\n",
      "Number of fp1 drops in hour 8: 0\n",
      "Time of drops: []\n",
      "Number of fp1 drops in hour 9: 0\n",
      "Time of drops: []\n"
     ]
    }
   ],
   "source": [
    "for j in range(9):\n",
    "    fp1_big = read_file_signal(edf_files_normal[j], npt_index)\n",
    "    fp1_small = resample_signal(fp1_big, 3600)\n",
    "    fp1_denoised = thresholding(fp1_small, 2)\n",
    "    spo2_data = read_file_signal(edf_files_normal[j], spo2_index)\n",
    "    spo2_denoised = thresholding(spo2_data, 2)\n",
    "    timestamps = np.linspace(0, 3600, len(fp1_denoised))\n",
    "    # print(len(fp1_denoised))\n",
    "    count, time_drops = count_ob_hypopnea(fp1_denoised, spo2_denoised, timestamps)\n",
    "    print(f\"Number of fp1 drops in hour {j + 1}: {count}\")\n",
    "    print(f\"Time of drops: {time_drops}\")"
   ]
  },
  {
   "cell_type": "code",
   "execution_count": 157,
   "metadata": {},
   "outputs": [
    {
     "name": "stdout",
     "output_type": "stream",
     "text": [
      "Number of fp1 drops in hour 1: 8\n",
      "Time of drops: [(38.01055848846902, 50), (182.05056960266742, 194), (216.0600166712976, 231), (240.06668519033067, 254), (290.0805779383162, 305), (353.098082800778, 365), (446.12392331203114, 459), (2102.5840511253127, 2115)]\n",
      "Number of fp1 drops in hour 2: 0\n",
      "Time of drops: []\n",
      "Number of fp1 drops in hour 3: 0\n",
      "Time of drops: []\n",
      "Number of fp1 drops in hour 4: 0\n",
      "Time of drops: []\n",
      "Number of fp1 drops in hour 5: 0\n",
      "Time of drops: []\n",
      "Number of fp1 drops in hour 6: 0\n",
      "Time of drops: []\n",
      "Number of fp1 drops in hour 7: 9\n",
      "Time of drops: [(2789.7749374826344, 2801), (2859.794387329814, 2871), (2985.8293970547375, 3006), (3052.848013337038, 3064), (3164.879133092526, 3179), (3183.8844123367603, 3194), (3316.921367046402, 3331), (3511.9755487635457, 3524), (3572.9924979160883, 3583)]\n",
      "Number of fp1 drops in hour 8: 0\n",
      "Time of drops: []\n",
      "Number of fp1 drops in hour 9: 22\n",
      "Time of drops: [(268.07446512920257, 279), (713.198110586274, 726), (835.2320088913588, 849), (943.2620172270076, 958), (1133.3148096693526, 1144), (1269.3525979438734, 1281), (1328.3689913864964, 1339), (1751.486524034454, 1762), (1813.5037510419563, 1824), (1878.5218116143374, 1890), (1949.541539316477, 1964), (2000.5557099194223, 2014), (2087.579883300917, 2101), (2246.624062239511, 2257), (2340.650180605724, 2351), (2381.661572659072, 2397), (2605.7238121700475, 2618), (2660.7390941928315, 2674), (3003.8343984440125, 3020), (3043.845512642401, 3054), (3140.872464573493, 3152), (3170.880800222284, 3185)]\n",
      "Number of fp1 drops in hour 10: 0\n",
      "Time of drops: []\n",
      "Number of fp1 drops in hour 11: 5\n",
      "Time of drops: [(82.0227841066963, 157), (288.0800222283968, 325), (361.1003056404557, 372), (399.11086412892473, 446), (501.13920533481524, 3600.0)]\n"
     ]
    }
   ],
   "source": [
    "for j in range(11):\n",
    "    fp1_big = read_file_signal(edf_files_mild[j], npt_index)\n",
    "    fp1_small = resample_signal(fp1_big, 3600)\n",
    "    fp1_denoised = thresholding(fp1_small, 2)\n",
    "    spo2_data = read_file_signal(edf_files_mild[j], spo2_index)\n",
    "    spo2_denoised = thresholding(spo2_data, 2)\n",
    "    timestamps = np.linspace(0, 3600, len(fp1_denoised))\n",
    "    # print(len(fp1_denoised))\n",
    "    count, time_drops = count_ob_hypopnea(fp1_denoised, spo2_denoised, timestamps)\n",
    "    print(f\"Number of fp1 drops in hour {j + 1}: {count}\")\n",
    "    print(f\"Time of drops: {time_drops}\")"
   ]
  },
  {
   "cell_type": "code",
   "execution_count": 158,
   "metadata": {},
   "outputs": [
    {
     "name": "stdout",
     "output_type": "stream",
     "text": [
      "Number of fp1 drops in hour 1: 0\n",
      "Time of drops: []\n",
      "Number of fp1 drops in hour 2: 0\n",
      "Time of drops: []\n",
      "Number of fp1 drops in hour 3: 1\n",
      "Time of drops: [(1897.527090858572, 1914)]\n",
      "Number of fp1 drops in hour 4: 18\n",
      "Time of drops: [(197.0547374270631, 209), (225.062517365935, 236), (1802.5006946373994, 1814), (1815.5043067518757, 1827), (2012.5590441789388, 2024), (2126.590719644346, 2145), (2180.6057238121703, 2191), (2218.6162823006393, 2230), (2241.622672964713, 2252), (2271.631008613504, 2286), (2550.7085301472634, 2562), (2757.7660461239234, 2770), (2819.7832731314256, 2833), (3089.8582939705475, 3101), (3227.896637954988, 3238), (3405.9460961378163, 3418), (3547.9855515420954, 3558), (3585.9961100305645, 3597)]\n",
      "Number of fp1 drops in hour 5: 15\n",
      "Time of drops: [(767.2131147540985, 779), (906.2517365934983, 917), (1034.2873020283414, 1045), (1365.3792720200056, 1376), (1463.4065018060573, 1480), (1622.4506807446514, 1634), (2073.575993331481, 2085), (2287.6354542928593, 2304), (2460.6835232008893, 2471), (2484.6901917199225, 2495), (2564.7124201166994, 2578), (2607.724367879967, 2620), (2848.791330925257, 2862), (2901.806057238122, 2918), (3380.9391497638235, 3392)]\n",
      "Number of fp1 drops in hour 6: 20\n",
      "Time of drops: [(20.00555709919422, 33), (88.02445123645458, 99), (142.03945540427898, 155), (177.04918032786887, 188), (310.0861350375104, 323), (465.1292025562657, 477), (778.2161711586552, 791), (873.2425673798278, 886), (1170.325090302862, 1182), (1402.389552653515, 1416), (1470.4084467907753, 1481), (1670.4640177827175, 1683), (1809.5026396221174, 1820), (2046.568491247569, 2058), (2473.6871353153656, 2485), (2675.743262017227, 2689), (2758.766323978883, 2769), (3033.8427340928038, 3046), (3522.9786051681026, 3534), (3544.984717977216, 3555)]\n",
      "Number of fp1 drops in hour 7: 0\n",
      "Time of drops: []\n",
      "Number of fp1 drops in hour 8: 0\n",
      "Time of drops: []\n",
      "Number of fp1 drops in hour 9: 0\n",
      "Time of drops: []\n"
     ]
    }
   ],
   "source": [
    "for j in range(9):\n",
    "    fp1_big = read_file_signal(edf_files_moderate[j], npt_index)\n",
    "    fp1_small = resample_signal(fp1_big, 3600)\n",
    "    fp1_denoised = thresholding(fp1_small, 2)\n",
    "    spo2_data = read_file_signal(edf_files_moderate[j], spo2_index)\n",
    "    spo2_denoised = thresholding(spo2_data, 2)\n",
    "    timestamps = np.linspace(0, 3600, len(fp1_denoised))\n",
    "    # print(len(fp1_denoised))\n",
    "    count, time_drops = count_ob_hypopnea(fp1_denoised, spo2_denoised, timestamps)\n",
    "    print(f\"Number of fp1 drops in hour {j + 1}: {count}\")\n",
    "    print(f\"Time of drops: {time_drops}\")"
   ]
  },
  {
   "cell_type": "code",
   "execution_count": 130,
   "metadata": {},
   "outputs": [],
   "source": [
    "def count_ob_hypopnea_2(fp1_data, spo2_data, timestamps):   ##gives wrong results\n",
    "    mean_fp1 = np.mean(fp1_data)  \n",
    "    mean_spo2 = np.mean(fp1_data)\n",
    "    resampled_fp1 = fp1_data.reshape(-1, 100).mean(axis=1)\n",
    "    drop_start = None\n",
    "    count = 0\n",
    "    time_drops = []\n",
    "\n",
    "    for i in range(1, len(spo2_data)):  ##continue from here\n",
    "        if (mean_fp1 - resampled_fp1[i])/mean_fp1 >= 0.3 and (mean_spo2 - spo2_data[i])/mean_spo2 >= 0.03:\n",
    "            if drop_start is None:\n",
    "                drop_start = timestamps[i]  # Start timing the drop\n",
    "        else:\n",
    "            if drop_start is not None and (timestamps[i - 1] - drop_start) >= 10:\n",
    "                count += 1  # Count the drop\n",
    "                time_drops.append((drop_start, i))\n",
    "            drop_start = None  # Reset the drop\n",
    "\n",
    "    if drop_start is not None and (timestamps[-1] - drop_start) >= 10:\n",
    "        count += 1\n",
    "        time_drops.append((drop_start, len(spo2_data)))\n",
    "\n",
    "    return count, time_drops"
   ]
  },
  {
   "cell_type": "code",
   "execution_count": 159,
   "metadata": {},
   "outputs": [
    {
     "name": "stdout",
     "output_type": "stream",
     "text": [
      "Number of fp1 drops in 9 hours: 1\n",
      "Time of drops: [(323.98964220797023, 32400.0)]\n"
     ]
    }
   ],
   "source": [
    "spo2_data = combined_signal(edf_files_normal, spo2_index)\n",
    "spo2_denoised = thresholding(spo2_data, 2)\n",
    "fp1_data = combined_signal(edf_files_normal, npt_index)\n",
    "fp1_denoised = thresholding(fp1_data, 2)\n",
    "fp1_small = resample_signal(fp1_denoised, 32400)\n",
    "timestamps = np.linspace(0, 32400, len(fp1_denoised))\n",
    "count, time_drops = count_ob_hypopnea(fp1_small, spo2_denoised, timestamps)\n",
    "print(f\"Number of fp1 drops in 9 hours: {count}\")\n",
    "print(f\"Time of drops: {time_drops}\")"
   ]
  },
  {
   "cell_type": "code",
   "execution_count": 160,
   "metadata": {},
   "outputs": [
    {
     "name": "stdout",
     "output_type": "stream",
     "text": [
      "Number of fp1 drops in 9 hours: 3\n",
      "Time of drops: [(291.7261898403741, 29481), (356.24933752823466, 34634), (381.72670749273027, 39600.0)]\n"
     ]
    }
   ],
   "source": [
    "spo2_data = combined_signal(edf_files_mild, spo2_index)\n",
    "spo2_denoised = thresholding(spo2_data, 2)\n",
    "fp1_data = combined_signal(edf_files_mild, npt_index)\n",
    "fp1_denoised = thresholding(fp1_data, 2)\n",
    "fp1_small = resample_signal(fp1_denoised, 39600)\n",
    "timestamps = np.linspace(0, 39600, len(fp1_denoised))\n",
    "count, time_drops = count_ob_hypopnea(fp1_small, spo2_denoised, timestamps)\n",
    "print(f\"Number of fp1 drops in 9 hours: {count}\")\n",
    "print(f\"Time of drops: {time_drops}\")"
   ]
  },
  {
   "cell_type": "code",
   "execution_count": 161,
   "metadata": {},
   "outputs": [
    {
     "name": "stdout",
     "output_type": "stream",
     "text": [
      "Number of fp1 drops in 9 hours: 1\n",
      "Time of drops: [(323.98923551554986, 32400.0)]\n"
     ]
    }
   ],
   "source": [
    "spo2_data = combined_signal(edf_files_moderate, spo2_index)\n",
    "spo2_denoised = thresholding(spo2_data, 2)\n",
    "fp1_data = combined_signal(edf_files_moderate, npt_index)\n",
    "fp1_denoised = thresholding(fp1_data, 2)\n",
    "fp1_small = resample_signal(fp1_denoised, 32400)\n",
    "timestamps = np.linspace(0, 32400, len(fp1_denoised))\n",
    "count, time_drops = count_ob_hypopnea(fp1_small, spo2_denoised, timestamps)\n",
    "print(f\"Number of fp1 drops in 9 hours: {count}\")\n",
    "print(f\"Time of drops: {time_drops}\")"
   ]
  },
  {
   "cell_type": "code",
   "execution_count": 162,
   "metadata": {},
   "outputs": [
    {
     "name": "stdout",
     "output_type": "stream",
     "text": [
      "Number of fp1 drops in 9 hours: 0\n",
      "Time of drops: []\n"
     ]
    }
   ],
   "source": [
    "spo2_data = combined_signal(edf_files_severe, spo2_index)\n",
    "spo2_denoised = thresholding(spo2_data, 2)\n",
    "fp1_data = combined_signal(edf_files_severe, npt_index)\n",
    "fp1_denoised = thresholding(fp1_data, 2)\n",
    "fp1_small = resample_signal(fp1_denoised, 25200)\n",
    "timestamps = np.linspace(0, 25200, len(fp1_denoised))\n",
    "count, time_drops = count_ob_hypopnea(fp1_small, spo2_denoised, timestamps)\n",
    "print(f\"Number of fp1 drops in 9 hours: {count}\")\n",
    "print(f\"Time of drops: {time_drops}\")"
   ]
  },
  {
   "cell_type": "code",
   "execution_count": null,
   "metadata": {},
   "outputs": [],
   "source": []
  }
 ],
 "metadata": {
  "kernelspec": {
   "display_name": "env",
   "language": "python",
   "name": "python3"
  },
  "language_info": {
   "codemirror_mode": {
    "name": "ipython",
    "version": 3
   },
   "file_extension": ".py",
   "mimetype": "text/x-python",
   "name": "python",
   "nbconvert_exporter": "python",
   "pygments_lexer": "ipython3",
   "version": "3.11.4"
  }
 },
 "nbformat": 4,
 "nbformat_minor": 2
}
